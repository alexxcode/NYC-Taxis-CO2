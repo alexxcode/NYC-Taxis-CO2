{
 "cells": [
  {
   "cell_type": "markdown",
   "metadata": {},
   "source": [
    "Funciones ETL Datasets"
   ]
  },
  {
   "cell_type": "code",
   "execution_count": 1,
   "metadata": {},
   "outputs": [],
   "source": [
    "# Dataset Vehicle Fuel Economy Data.csv \n",
    "import pandas as pd\n",
    "import numpy as np\n",
    "import requests\n",
    "import io "
   ]
  },
  {
   "cell_type": "markdown",
   "metadata": {},
   "source": [
    "taxi_zones.dbf  y taxi+_zone_lookup.csv"
   ]
  },
  {
   "cell_type": "code",
   "execution_count": 41,
   "metadata": {},
   "outputs": [
    {
     "name": "stdout",
     "output_type": "stream",
     "text": [
      "Datos cargados con éxito.\n",
      "Datos transformados con éxito.\n",
      "Datos guardados con éxito en 'taxis_zones_transformado.csv'.\n"
     ]
    }
   ],
   "source": [
    "def cargar_datos(url):\n",
    "    # Descargar el archivo CSV\n",
    "    response = requests.get(url)\n",
    "    data = pd.read_csv(io.BytesIO(response.content))\n",
    "\n",
    "    return data\n",
    "\n",
    "def transformar_datos(df):\n",
    "    df.columns = df.columns.str.lower().str.replace(' ', '_')\n",
    "    return df\n",
    "\n",
    "def guardar_datos(df, nombre_archivo='taxis_zones_transformado.csv'):\n",
    "    df.to_csv(nombre_archivo, index=False)\n",
    "\n",
    "if __name__ == \"__main__\":\n",
    "    # URL del archivo CSV en Google Drive\n",
    "    url = 'https://drive.google.com/uc?id=14cnXFjTL_SzUhgfE95TySVqBAAQksvVl'\n",
    "\n",
    "    # 1. Extracción\n",
    "    datos = cargar_datos(url)\n",
    "    print(\"Datos cargados con éxito.\")\n",
    "\n",
    "    # 2. Transformación\n",
    "    df_transformado = transformar_datos(datos)\n",
    "    print(\"Datos transformados con éxito.\")\n",
    "\n",
    "    # 3. Carga\n",
    "    guardar_datos(df_transformado, 'taxis_zones_transformado.csv')\n",
    "    print(\"Datos guardados con éxito en 'taxis_zones_transformado.csv'.\")\n"
   ]
  },
  {
   "cell_type": "markdown",
   "metadata": {},
   "source": [
    "ElectricCarData_Clean.csv"
   ]
  },
  {
   "cell_type": "code",
   "execution_count": 44,
   "metadata": {},
   "outputs": [
    {
     "name": "stdout",
     "output_type": "stream",
     "text": [
      "Datos cargados con éxito.\n",
      "Datos transformados con éxito.\n",
      "Datos guardados con éxito en 'electric_car.csv'.\n"
     ]
    }
   ],
   "source": [
    "import requests\n",
    "import pandas as pd\n",
    "import io\n",
    "\n",
    "def cargar_datos(url):\n",
    "    # Descargar el archivo CSV\n",
    "    response = requests.get(url, stream=True)\n",
    "    if response.status_code == 200:\n",
    "        data = pd.read_csv(io.BytesIO(response.content), encoding='utf-8')\n",
    "        return data\n",
    "    else:\n",
    "        raise Exception(f\"Error al descargar el archivo CSV: {response.status_code}\")\n",
    "\n",
    "def transformar_datos(df):\n",
    "    df.columns = df.columns.str.lower().str.replace(' ', '_')\n",
    "    return df\n",
    "\n",
    "def guardar_datos(df, nombre_archivo='electric_car.csv'):\n",
    "    df.to_csv(nombre_archivo, index=False)\n",
    "\n",
    "if __name__ == \"__main__\":\n",
    "    # URL del archivo CSV en Google Drive\n",
    "    url = 'https://drive.google.com/uc?export=download&id=1upo7PZvkAo-ryNKxYgeUT48Ovycpkmkt'\n",
    "\n",
    "    # 1. Extracción\n",
    "    datos = cargar_datos(url)\n",
    "    print(\"Datos cargados con éxito.\")\n",
    "\n",
    "    # 2. Transformación\n",
    "    df_transformado = transformar_datos(datos)\n",
    "    print(\"Datos transformados con éxito.\")\n",
    "\n",
    "    # 3. Carga\n",
    "    guardar_datos(df_transformado, 'electric_car.csv')\n",
    "    print(\"Datos guardados con éxito en 'electric_car.csv'.\")\n"
   ]
  },
  {
   "cell_type": "markdown",
   "metadata": {},
   "source": [
    "Vehicle Fuel Economy Data.csv"
   ]
  },
  {
   "cell_type": "code",
   "execution_count": null,
   "metadata": {},
   "outputs": [],
   "source": [
    "def cargar_datos(url):\n",
    "    # Leer el archivo CSV desde la URL\n",
    "    return pd.read_csv(url)\n",
    "\n",
    "\n",
    "def transformar_datos(df):\n",
    "    df.insert(0, 'ID', range(1, len(df) + 1))\n",
    "    selected_columns = ['guzzler', 'combA08U', 'lv2', 'trany', 'co2', 'UHighway', 'rangeCity', 'fuelType1', 'Model', 'ID', 'cityE', 'sCharger', 'combE', 'tCharger', 'cityA08', 'Year', 'co2A', 'trans_dscr', 'cityCD', 'youSaveSpend', 'phevBlended', 'fuelType2', 'range', 'ghgScore', 'cylinders', 'city08', 'rangeHwy', 'fuelCostA08', 'phevComb', 'VClass', 'drive', 'comb08U', 'Manufacturer', 'pv2', 'UCity', 'createdOn', 'atvType', 'fuelCost08']\n",
    "\n",
    "    df = df[selected_columns]\n",
    "\n",
    "    columns_to_convert = ['Model', 'fuelType1', 'fuelType2', 'drive', 'VClass', 'phevBlended', 'guzzler']\n",
    "\n",
    "    for column in columns_to_convert:\n",
    "        df[column] = df[column].astype(str)\n",
    "\n",
    "    df['Manufacturer'] = df['Manufacturer'].replace('General Motors', 'GMC')\n",
    "    df.loc[df['fuelType2'] == 'Electricity', 'co2A'] = 0\n",
    "\n",
    "    # Reemplazar valores específicos por NaN\n",
    "    columns_to_replace_zero_with_nan = ['co2', 'co2A', 'ghgScore', 'range', 'rangeCity', 'rangeHwy',\n",
    "                                    'cityA08', 'cityCD', 'cityE', 'combE', 'comb08U', 'combA08U',\n",
    "                                    'fuelCostA08', 'lv2', 'pv2', 'phevComb']\n",
    "\n",
    "    df[columns_to_replace_zero_with_nan] = df[columns_to_replace_zero_with_nan].replace(0, np.nan)\n",
    "\n",
    "    # Devolver el DataFrame limpio\n",
    "    return df\n",
    "\n",
    "\n",
    "def guardar_datos(df, nombre_archivo):\n",
    "    # Guardar el DataFrame en un archivo CSV\n",
    "    df.to_csv(nombre_archivo, index=False)\n",
    "\n",
    "def main():\n",
    "    # URL del archivo CSV en Google Drive\n",
    "    url = 'https://drive.google.com/uc?export=download&id=1tEsF-bZYqqBM2gjcHxdbzVeip-90wHFM'\n",
    "\n",
    "    # 1. Carga\n",
    "    datos = cargar_datos(url)\n",
    "    print(\"Datos cargados con éxito.\")\n",
    "\n",
    "    # 2. Transformación\n",
    "    df_transformado = transformar_datos(datos)\n",
    "    print(\"Datos transformados con éxito.\")\n",
    "\n",
    "    # 3. Guardado\n",
    "    df_transformado.to_csv('Vehicle Fuel Economy Data.csv', index=False)\n",
    "    print(\"Datos guardados con éxito en 'Vehicle Fuel Economy Data.csv'.\")\n",
    "\n",
    "    print(\"Proceso completo.\")\n",
    "\n",
    "if __name__ == \"__main__\":\n",
    "    main()"
   ]
  },
  {
   "cell_type": "markdown",
   "metadata": {},
   "source": [
    "Electric and Alternative Fuel Charging Stations.csv"
   ]
  },
  {
   "cell_type": "code",
   "execution_count": null,
   "metadata": {},
   "outputs": [],
   "source": [
    "def cargar_datos(url):\n",
    "    # Leer el archivo CSV desde la URL\n",
    "    return pd.read_csv(url)\n",
    "\n",
    "def transformar_datos(dataset):\n",
    "    df = dataset[[\"Fuel Type Code\", \"Street Address\", \"City\", \"State\", \"Status Code\",\n",
    "                     \"Groups With Access Code\", \"Access Days Time\", \"BD Blends\",\n",
    "                     \"NG Fill Type Code\", \"NG PSI\", \"Latitude\", \"Longitude\",\n",
    "                     \"Open Date\", \"NG Vehicle Class\", \"E85 Blender Pump\",\n",
    "                     \"EV Connector Types\",\n",
    "                     \"CNG Storage Capacity\"]]\n",
    "# Convierte la columna 'Open Date' al formato de fecha\n",
    "    df['Open Date'] = pd.to_datetime(df['Open Date'], errors='coerce')\n",
    "# Extrae el año de la columna 'Open Date'\n",
    "    df['Open Year'] = df['Open Date'].dt.year\n",
    "\n",
    "    df.columns = df.columns.str.lower().str.replace(' ', '_')\n",
    "\n",
    "    return df\n",
    "\n",
    "def guardar_datos(df, nombre_archivo):\n",
    "    # Guardar el DataFrame en un archivo CSV\n",
    "    df.to_csv(nombre_archivo, index=False)\n",
    "\n",
    "def main():\n",
    "    # URL del archivo CSV en Google Drive\n",
    "    url = 'https://drive.google.com/uc?export=download&id=16fbavFKfcFqb85akQgFY1ED_gqqihwRf'\n",
    "\n",
    "    # 1. Carga\n",
    "    datos = cargar_datos(url)\n",
    "    print(\"Datos cargados con éxito.\")\n",
    "\n",
    "    # 2. Transformación\n",
    "    df_transformado = transformar_datos(datos)\n",
    "    print(\"Datos transformados con éxito.\")\n",
    "\n",
    "    # 3. Guardado\n",
    "    df_transformado.to_csv('Electric and Alternative Fuel Charging Stations.csv', index=False)\n",
    "    print(\"Datos guardados con éxito en 'Electric and Alternative Fuel Charging Stations.csv'.\")\n",
    "\n",
    "    print(\"Proceso completo.\")\n",
    "\n",
    "if __name__ == \"__main__\":\n",
    "    main()\n"
   ]
  },
  {
   "cell_type": "markdown",
   "metadata": {},
   "source": [
    "Light Duty Vehicles.csv"
   ]
  },
  {
   "cell_type": "code",
   "execution_count": 68,
   "metadata": {},
   "outputs": [
    {
     "name": "stdout",
     "output_type": "stream",
     "text": [
      "Datos cargados con éxito.\n",
      "Datos transformados con éxito.\n",
      "Datos guardados con éxito en 'Light_Duty_Vehicles_transformados.csv'.\n",
      "Proceso completo.\n"
     ]
    }
   ],
   "source": [
    "import pandas as pd\n",
    "\n",
    "def cargar_datos(url):\n",
    "    # Leer el archivo CSV desde la URL\n",
    "    return pd.read_csv(url)\n",
    "\n",
    "def transformar_datos(df):\n",
    "    df.columns = df.columns.str.lower().str.replace(' ', '_')\n",
    "\n",
    "    # Seleccionar columnas deseadas\n",
    "    columnas = ['vehicle_id', 'fuel_id', 'fuel_configuration_id', 'manufacturer_id',\n",
    "            'category_id', 'model', 'model_year', 'alternative_fuel_economy_city',\n",
    "            'alternative_fuel_economy_highway', 'alternative_fuel_economy_combined',\n",
    "            'conventional_fuel_economy_city', 'conventional_fuel_economy_highway',\n",
    "            'conventional_fuel_economy_combined','engine_cylinder_count']\n",
    "    df = df[columnas]\n",
    "\n",
    "    # Eliminar filas con valores nulos en 'fuel_configuration_id'\n",
    "    df = df.dropna(subset=['fuel_configuration_id'])\n",
    "\n",
    "    # Reemplazar los valores nulos con 0 en columnas especificadas\n",
    "    columnas_con_nulos = ['alternative_fuel_economy_city', 'alternative_fuel_economy_highway',\n",
    "                       'alternative_fuel_economy_combined', 'conventional_fuel_economy_city',\n",
    "                       'conventional_fuel_economy_highway', 'conventional_fuel_economy_combined',\n",
    "                       'engine_cylinder_count']\n",
    "    df[columnas_con_nulos] = df[columnas_con_nulos].fillna(0).astype(int)\n",
    "\n",
    "    # Convertir columnas a tipo entero\n",
    "    columnas_a_entero = ['fuel_configuration_id', 'alternative_fuel_economy_city',\n",
    "                       'alternative_fuel_economy_highway', 'alternative_fuel_economy_combined',\n",
    "                       'conventional_fuel_economy_city', 'conventional_fuel_economy_highway',\n",
    "                       'conventional_fuel_economy_combined', 'engine_cylinder_count']\n",
    "    df[columnas_a_entero] = df[columnas_a_entero].astype(int)\n",
    "\n",
    "    return df\n",
    "\n",
    "def guardar_datos(df, nombre_archivo):\n",
    "    # Guardar el DataFrame en un archivo CSV\n",
    "    df.to_csv(nombre_archivo, index=False)\n",
    "\n",
    "def main():\n",
    "    # URL del archivo CSV en Google Drive\n",
    "    url = 'https://drive.google.com/uc?id=18hzPaVttvyo8QyuC-jVSrN1-jkCnCIpW'\n",
    "\n",
    "    # 1. Carga\n",
    "    datos = cargar_datos(url)\n",
    "    print(\"Datos cargados con éxito.\")\n",
    "\n",
    "    # 2. Transformación\n",
    "    df_transformado = transformar_datos(datos)\n",
    "    print(\"Datos transformados con éxito.\")\n",
    "\n",
    "    # 3. Guardado\n",
    "    df_transformado.to_csv('Light_Duty_Vehicles_transformados.csv', index=False)\n",
    "    print(\"Datos guardados con éxito en 'Light_Duty_Vehicles_transformados.csv'.\")\n",
    "\n",
    "    print(\"Proceso completo.\")\n",
    "\n",
    "if __name__ == \"__main__\":\n",
    "    main()\n"
   ]
  },
  {
   "cell_type": "markdown",
   "metadata": {},
   "source": [
    "Alternative Fuel Vehicles US.csv"
   ]
  },
  {
   "cell_type": "code",
   "execution_count": 15,
   "metadata": {},
   "outputs": [
    {
     "name": "stdout",
     "output_type": "stream",
     "text": [
      "Datos cargados con éxito.\n",
      "Datos transformados con éxito.\n",
      "Datos guardados con éxito en 'Alternative_Fuel_Vehicles.csv.\n",
      "Proceso completo.\n"
     ]
    }
   ],
   "source": [
    "import pandas as pd\n",
    "\n",
    "def cargar_datos(url):\n",
    "    # Leer el archivo CSV\n",
    "    return pd.read_csv(url)\n",
    "\n",
    "def transformar_datos(df):\n",
    "    # Crear la columna 'Name' combinando 'Manufacturer' y 'Model'\n",
    "    df['Name'] = df['Manufacturer'] + ' ' + df['Model']\n",
    "\n",
    "    # Eliminar columnas especificadas\n",
    "    columns_to_drop = [\"Notes\", \"Number of Passengers\", \"PHEV Total Range\"]\n",
    "    df = df.drop(columns=columns_to_drop)\n",
    "\n",
    "    # Columnas a llenar con ceros en lugar de valores nulos\n",
    "    columns_to_fillna = ['Alternative Fuel Economy City', 'Alternative Fuel Economy Highway',\n",
    "                              'Alternative Fuel Economy Combined', 'Conventional Fuel Economy City',\n",
    "                              'Conventional Fuel Economy Highway', 'Conventional Fuel Economy Combined']\n",
    "\n",
    "    # Reemplazar los valores nulos con 0 en las columnas especificadas\n",
    "    df[columns_to_fillna] = df[columns_to_fillna].fillna(0).astype(int)\n",
    "\n",
    "    # Convertir algunas columnas a tipo entero\n",
    "    int_columns = ['Alternative Fuel Economy City', 'Alternative Fuel Economy Highway',\n",
    "                        'Alternative Fuel Economy Combined', 'Conventional Fuel Economy City',\n",
    "                        'Conventional Fuel Economy Highway', 'Conventional Fuel Economy Combined']\n",
    "\n",
    "    df[int_columns] = df[int_columns].astype(int)\n",
    "\n",
    "    # Cambiar el nombre de las columnas\n",
    "    df.columns = df.columns.str.lower().str.replace(' ', '_')\n",
    "\n",
    "    return df\n",
    "\n",
    "\n",
    "def guardar_datos(df, nombre_archivo):\n",
    "    # Guardar el archivo CSV\n",
    "    df.to_csv(nombre_archivo, index=False)\n",
    "\n",
    "def main():\n",
    "    # URL del archivo CSV en Google Drive\n",
    "    url = 'https://drive.google.com/uc?id=1p73YBd4tjQF2au4IAo99FY6nq-JJX2t-'\n",
    "\n",
    "    # 1. Extracción\n",
    "    datos = cargar_datos(url)\n",
    "    print(\"Datos cargados con éxito.\")\n",
    "\n",
    "    # 2. Transformación\n",
    "    datos_transformados = transformar_datos(datos)\n",
    "    print(\"Datos transformados con éxito.\")\n",
    "\n",
    "    # 3. Carga\n",
    "    guardar_datos(datos_transformados, 'Alternative Fuel Vehicles.csv')\n",
    "    print(\"Datos guardados con éxito en 'Alternative_Fuel_Vehicles.csv.\")\n",
    "\n",
    "    print(\"Proceso completo.\")\n",
    "\n",
    "if __name__ == \"__main__\":\n",
    "    main()\n"
   ]
  }
 ],
 "metadata": {
  "kernelspec": {
   "display_name": "Python 3",
   "language": "python",
   "name": "python3"
  },
  "language_info": {
   "codemirror_mode": {
    "name": "ipython",
    "version": 3
   },
   "file_extension": ".py",
   "mimetype": "text/x-python",
   "name": "python",
   "nbconvert_exporter": "python",
   "pygments_lexer": "ipython3",
   "version": "3.11.4"
  }
 },
 "nbformat": 4,
 "nbformat_minor": 2
}
