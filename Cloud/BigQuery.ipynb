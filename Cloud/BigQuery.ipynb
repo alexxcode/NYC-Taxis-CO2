{
 "cells": [
  {
   "cell_type": "code",
   "execution_count": null,
   "metadata": {},
   "outputs": [],
   "source": [
    "# BigQuery y Pandas\n",
    "import pandas as pd\n",
    "from google.cloud import bigquery\n",
    "import json\n",
    "\n",
    "# Web Scrapping\n",
    "import os\n",
    "import requests\n",
    "from bs4 import BeautifulSoup"
   ]
  },
  {
   "cell_type": "markdown",
   "metadata": {},
   "source": []
  },
  {
   "cell_type": "code",
   "execution_count": null,
   "metadata": {},
   "outputs": [],
   "source": [
    "os.environ['GOOGLE_APPLICATION_CREDENTIALS'] = 'keys\\nyc-taxis-co2-0900a053e59f.json'  # json file with credentials"
   ]
  },
  {
   "cell_type": "code",
   "execution_count": null,
   "metadata": {},
   "outputs": [],
   "source": [
    "url = \"https://www.nyc.gov/site/tlc/about/tlc-trip-record-data.page\"\n",
    "response = requests.get(url)\n",
    "soup = BeautifulSoup(response.content, \"html.parser\")\n",
    "parquet_files = []\n",
    "\n",
    "# selecting the years\n",
    "selected_years = ['2020', '2021', '2022','2023']\n",
    "\n",
    "for link in soup.find_all('a',href=True): # finding links\n",
    "  if link['href'].endswith('.parquet '): # Si el elemento termina en .parquet, añado el elemento a la lista parquet_files\n",
    "    if any(year in link['href'] for year in selected_years):\n",
    "      print(link['href'])\n",
    "      parquet_files.append(link['href'])"
   ]
  },
  {
   "cell_type": "code",
   "execution_count": null,
   "metadata": {},
   "outputs": [],
   "source": [
    "yellow_taxis = []\n",
    "green_taxis = []\n",
    "\n",
    "for link in parquet_files:\n",
    "  if 'yellow_tripdata' in link: # Todos los links que contengan 'yellow_tripdata' en su texto\n",
    "    yellow_taxis.append(link)\n",
    "  elif 'green_tripdata' in link: # Todos los links que contengan 'green_tripdata' en su texto\n",
    "    green_taxis.append(link)\n",
    "\n",
    "\n",
    "yellow_taxis = sorted(yellow_taxis, reverse=True)\n",
    "green_taxis = sorted(green_taxis, reverse=True)\n"
   ]
  },
  {
   "cell_type": "code",
   "execution_count": null,
   "metadata": {},
   "outputs": [],
   "source": [
    "yellow_taxis"
   ]
  },
  {
   "cell_type": "code",
   "execution_count": null,
   "metadata": {},
   "outputs": [],
   "source": [
    "green_taxis"
   ]
  },
  {
   "cell_type": "code",
   "execution_count": null,
   "metadata": {},
   "outputs": [],
   "source": [
    "# IdLocation de Manhattan\n",
    "manhattan_zones = [  4,  12,  13,  24,  41,  42,  43,  45,  48,  50,  68,  74,  75,\n",
    "    79,  87,  88,  90, 100, 103, 104, 105, 107, 113, 114, 116, 120,\n",
    "    125, 127, 128, 137, 140, 141, 142, 143, 144, 148, 151, 152, 153,\n",
    "    158, 161, 162, 163, 164, 166, 170, 186, 194, 202, 209, 211, 224,\n",
    "    229, 230, 231, 232, 233, 234, 236, 237, 238, 239, 243, 244, 246,\n",
    "    249, 261, 262, 263]"
   ]
  },
  {
   "cell_type": "markdown",
   "metadata": {},
   "source": [
    "## TAXIS AMARILLOS"
   ]
  },
  {
   "cell_type": "code",
   "execution_count": null,
   "metadata": {},
   "outputs": [],
   "source": [
    "dataframes = []\n",
    "for parquet_file in yellow_taxis:\n",
    "    df = pd.read_parquet(parquet_file)\n",
    "    df = df[['tpep_pickup_datetime','PULocationID','DOLocationID']]\n",
    "\n",
    "    # Selecciono solamente los registros que pertenecen a viajes del distrito de Manhattan\n",
    "    df = df[df.PULocationID.isin(manhattan_zones) & df.DOLocationID.isin(manhattan_zones)].reset_index(drop=True)\n",
    "    dataframes.append(df)\n",
    "\n",
    "# Ahora concateno todos esos dataframes en uno solo\n",
    "full_df = pd.concat(dataframes, ignore_index=True)"
   ]
  },
  {
   "cell_type": "code",
   "execution_count": null,
   "metadata": {},
   "outputs": [],
   "source": [
    "# Configura el cliente de BigQuery\n",
    "client = bigquery.Client()\n",
    "\n",
    "# Define el nombre de la tabla y el ID del proyecto\n",
    "table_id = 'nyc-taxis-project.new_york_transport_project.yellow_taxis2'\n",
    "\n",
    "# Carga el DataFrame en BigQuery\n",
    "job_config = bigquery.LoadJobConfig()\n",
    "job = client.load_table_from_dataframe(full_df, table_id, job_config=job_config)\n",
    "\n",
    "# Espera a que se complete el job\n",
    "job.result()\n",
    "\n",
    "print(f\"Se cargaron {job.output_rows} filas en la tabla {table_id}.\")"
   ]
  },
  {
   "cell_type": "markdown",
   "metadata": {},
   "source": [
    "## TAXIS VERDES"
   ]
  },
  {
   "cell_type": "code",
   "execution_count": null,
   "metadata": {},
   "outputs": [],
   "source": [
    "dataframes = []\n",
    "for parquet_file in green_taxis:\n",
    "    df = pd.read_parquet(parquet_file)\n",
    "    df = df[['lpep_pickup_datetime','PULocationID','DOLocationID']]\n",
    "\n",
    "    # Selecciono solamente los registros que pertenecen a viajes del distrito de Manhattan\n",
    "    df = df[df.PULocationID.isin(manhattan_zones) & df.DOLocationID.isin(manhattan_zones)].reset_index(drop=True)\n",
    "    dataframes.append(df)\n",
    "\n",
    "# Ahora concateno todos esos dataframes en uno solo\n",
    "full_df = pd.concat(dataframes, ignore_index=True)"
   ]
  },
  {
   "cell_type": "code",
   "execution_count": null,
   "metadata": {},
   "outputs": [],
   "source": [
    "# Configura el cliente de BigQuery\n",
    "client = bigquery.Client()\n",
    "\n",
    "# Define el nombre de la tabla y el ID del proyecto\n",
    "table_id = 'nyc-taxis-project.new_york_transport_project.green_taxis'\n",
    "\n",
    "# Carga el DataFrame en BigQuery\n",
    "job_config = bigquery.LoadJobConfig()\n",
    "job = client.load_table_from_dataframe(full_df, table_id, job_config=job_config)\n",
    "\n",
    "# Espera a que se complete el job\n",
    "job.result()\n",
    "\n",
    "print(f\"Se cargaron {job.output_rows} filas en la tabla {table_id}.\")"
   ]
  }
 ],
 "metadata": {
  "language_info": {
   "name": "python"
  }
 },
 "nbformat": 4,
 "nbformat_minor": 2
}
