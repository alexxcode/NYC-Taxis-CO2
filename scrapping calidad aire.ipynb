{
 "cells": [
  {
   "cell_type": "code",
   "execution_count": null,
   "metadata": {},
   "outputs": [],
   "source": [
    "import os\n",
    "import requests\n",
    "import zipfile\n",
    "from urllib.parse import urljoin\n",
    "from bs4 import BeautifulSoup"
   ]
  },
  {
   "cell_type": "code",
   "execution_count": 1,
   "metadata": {},
   "outputs": [],
   "source": [
    "def scrape_and_download(base_url, start_year=2000):\n",
    "    if not os.path.exists('Bases_calidad_aire'):\n",
    "        os.makedirs('Bases_calidad_aire')\n",
    "\n",
    "    response = requests.get(base_url)\n",
    "    soup = BeautifulSoup(response.text, 'html.parser')\n",
    "    links = soup.find_all('a')\n",
    "\n",
    "    for link in links:\n",
    "        href = link.get('href')\n",
    "        if href and 'annual_conc_by_monitor' in href and href.endswith('.zip'):\n",
    "            year = href.split('_')[-1].split('.')[0]\n",
    "            try:\n",
    "                year = int(year)\n",
    "                if year >= start_year:\n",
    "                    download_url = urljoin(base_url, href)\n",
    "                    zip_path = os.path.join('Bases_calidad_aire', href)\n",
    "\n",
    "                    # Verificar si el archivo ya existe en el directorio antes de descargarlo\n",
    "                    if not os.path.exists(zip_path):\n",
    "                        print(f'Descargando {download_url}...')\n",
    "                        download_file(download_url, zip_path)\n",
    "                        print(f'Descargado en {zip_path}')\n",
    "\n",
    "                    print(f'Descomprimiendo {zip_path}...')\n",
    "                    unzip_and_remove(zip_path, 'Bases_calidad_aire')\n",
    "                    print(f'Descomprimido y eliminado {zip_path}')\n",
    "                else:\n",
    "                    print(f'El año {year} es anterior al año de inicio {start_year}. Saltando descarga.')\n",
    "            except ValueError:\n",
    "                pass\n"
   ]
  }
 ],
 "metadata": {
  "kernelspec": {
   "display_name": "henry",
   "language": "python",
   "name": "python3"
  },
  "language_info": {
   "codemirror_mode": {
    "name": "ipython",
    "version": 3
   },
   "file_extension": ".py",
   "mimetype": "text/x-python",
   "name": "python",
   "nbconvert_exporter": "python",
   "pygments_lexer": "ipython3",
   "version": "3.9.18"
  }
 },
 "nbformat": 4,
 "nbformat_minor": 2
}
