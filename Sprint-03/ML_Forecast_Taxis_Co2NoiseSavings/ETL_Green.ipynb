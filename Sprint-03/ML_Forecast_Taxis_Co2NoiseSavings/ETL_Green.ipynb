{
 "cells": [
  {
   "cell_type": "code",
   "execution_count": 1,
   "metadata": {},
   "outputs": [
    {
     "name": "stdout",
     "output_type": "stream",
     "text": [
      "Archivo de zonas de taxi cargado correctamente.\n",
      "Archivo procesado y guardado: modified_green_tripdata_2014-01.csv\n",
      "Archivo procesado y guardado: modified_green_tripdata_2014-02.csv\n",
      "Archivo procesado y guardado: modified_green_tripdata_2014-03.csv\n",
      "Archivo procesado y guardado: modified_green_tripdata_2014-04.csv\n",
      "Archivo procesado y guardado: modified_green_tripdata_2014-05.csv\n",
      "Archivo procesado y guardado: modified_green_tripdata_2014-06.csv\n",
      "Archivo procesado y guardado: modified_green_tripdata_2014-07.csv\n",
      "Archivo procesado y guardado: modified_green_tripdata_2014-08.csv\n",
      "Archivo procesado y guardado: modified_green_tripdata_2014-09.csv\n",
      "Archivo procesado y guardado: modified_green_tripdata_2014-10.csv\n",
      "Archivo procesado y guardado: modified_green_tripdata_2014-11.csv\n",
      "Archivo procesado y guardado: modified_green_tripdata_2014-12.csv\n",
      "Archivo procesado y guardado: modified_green_tripdata_2015-01.csv\n",
      "Archivo procesado y guardado: modified_green_tripdata_2015-02.csv\n",
      "Archivo procesado y guardado: modified_green_tripdata_2015-03.csv\n",
      "Archivo procesado y guardado: modified_green_tripdata_2015-04.csv\n",
      "Archivo procesado y guardado: modified_green_tripdata_2015-05.csv\n",
      "Archivo procesado y guardado: modified_green_tripdata_2015-06.csv\n",
      "Archivo procesado y guardado: modified_green_tripdata_2015-07.csv\n",
      "Archivo procesado y guardado: modified_green_tripdata_2015-08.csv\n",
      "Archivo procesado y guardado: modified_green_tripdata_2015-09.csv\n",
      "Archivo procesado y guardado: modified_green_tripdata_2015-10.csv\n",
      "Archivo procesado y guardado: modified_green_tripdata_2015-11.csv\n",
      "Archivo procesado y guardado: modified_green_tripdata_2015-12.csv\n",
      "Archivo procesado y guardado: modified_green_tripdata_2016-01.csv\n",
      "Archivo procesado y guardado: modified_green_tripdata_2016-02.csv\n",
      "Archivo procesado y guardado: modified_green_tripdata_2016-03.csv\n",
      "Archivo procesado y guardado: modified_green_tripdata_2016-04.csv\n",
      "Archivo procesado y guardado: modified_green_tripdata_2016-05.csv\n",
      "Archivo procesado y guardado: modified_green_tripdata_2016-06.csv\n",
      "Archivo procesado y guardado: modified_green_tripdata_2016-07.csv\n",
      "Archivo procesado y guardado: modified_green_tripdata_2016-08.csv\n",
      "Archivo procesado y guardado: modified_green_tripdata_2016-09.csv\n",
      "Archivo procesado y guardado: modified_green_tripdata_2016-10.csv\n",
      "Archivo procesado y guardado: modified_green_tripdata_2016-11.csv\n",
      "Archivo procesado y guardado: modified_green_tripdata_2016-12.csv\n",
      "Archivo procesado y guardado: modified_green_tripdata_2017-01.csv\n",
      "Archivo procesado y guardado: modified_green_tripdata_2017-02.csv\n",
      "Archivo procesado y guardado: modified_green_tripdata_2017-03.csv\n",
      "Archivo procesado y guardado: modified_green_tripdata_2017-04.csv\n",
      "Archivo procesado y guardado: modified_green_tripdata_2017-05.csv\n",
      "Archivo procesado y guardado: modified_green_tripdata_2017-06.csv\n",
      "Archivo procesado y guardado: modified_green_tripdata_2017-07.csv\n",
      "Archivo procesado y guardado: modified_green_tripdata_2017-08.csv\n",
      "Archivo procesado y guardado: modified_green_tripdata_2017-09.csv\n",
      "Archivo procesado y guardado: modified_green_tripdata_2017-10.csv\n",
      "Archivo procesado y guardado: modified_green_tripdata_2017-11.csv\n",
      "Archivo procesado y guardado: modified_green_tripdata_2017-12.csv\n",
      "Archivo procesado y guardado: modified_green_tripdata_2018-01.csv\n",
      "Archivo procesado y guardado: modified_green_tripdata_2018-02.csv\n",
      "Archivo procesado y guardado: modified_green_tripdata_2018-03.csv\n",
      "Archivo procesado y guardado: modified_green_tripdata_2018-04.csv\n",
      "Archivo procesado y guardado: modified_green_tripdata_2018-05.csv\n",
      "Archivo procesado y guardado: modified_green_tripdata_2018-06.csv\n",
      "Archivo procesado y guardado: modified_green_tripdata_2018-07.csv\n",
      "Archivo procesado y guardado: modified_green_tripdata_2018-08.csv\n",
      "Archivo procesado y guardado: modified_green_tripdata_2018-09.csv\n"
     ]
    },
    {
     "name": "stderr",
     "output_type": "stream",
     "text": [
      "C:\\Users\\Eduardo\\AppData\\Local\\Temp\\ipykernel_8800\\2564844325.py:28: DtypeWarning: Columns (3) have mixed types. Specify dtype option on import or set low_memory=False.\n",
      "  green_taxi_data = pd.read_csv(green_taxi_data_file)\n"
     ]
    },
    {
     "name": "stdout",
     "output_type": "stream",
     "text": [
      "Archivo procesado y guardado: modified_green_tripdata_2018-10.csv\n",
      "Archivo procesado y guardado: modified_green_tripdata_2018-11.csv\n"
     ]
    },
    {
     "name": "stderr",
     "output_type": "stream",
     "text": [
      "C:\\Users\\Eduardo\\AppData\\Local\\Temp\\ipykernel_8800\\2564844325.py:28: DtypeWarning: Columns (3) have mixed types. Specify dtype option on import or set low_memory=False.\n",
      "  green_taxi_data = pd.read_csv(green_taxi_data_file)\n"
     ]
    },
    {
     "name": "stdout",
     "output_type": "stream",
     "text": [
      "Archivo procesado y guardado: modified_green_tripdata_2018-12.csv\n"
     ]
    },
    {
     "name": "stderr",
     "output_type": "stream",
     "text": [
      "C:\\Users\\Eduardo\\AppData\\Local\\Temp\\ipykernel_8800\\2564844325.py:28: DtypeWarning: Columns (3) have mixed types. Specify dtype option on import or set low_memory=False.\n",
      "  green_taxi_data = pd.read_csv(green_taxi_data_file)\n"
     ]
    },
    {
     "name": "stdout",
     "output_type": "stream",
     "text": [
      "Archivo procesado y guardado: modified_green_tripdata_2019-01.csv\n"
     ]
    },
    {
     "name": "stderr",
     "output_type": "stream",
     "text": [
      "C:\\Users\\Eduardo\\AppData\\Local\\Temp\\ipykernel_8800\\2564844325.py:28: DtypeWarning: Columns (3) have mixed types. Specify dtype option on import or set low_memory=False.\n",
      "  green_taxi_data = pd.read_csv(green_taxi_data_file)\n"
     ]
    },
    {
     "name": "stdout",
     "output_type": "stream",
     "text": [
      "Archivo procesado y guardado: modified_green_tripdata_2019-02.csv\n"
     ]
    },
    {
     "name": "stderr",
     "output_type": "stream",
     "text": [
      "C:\\Users\\Eduardo\\AppData\\Local\\Temp\\ipykernel_8800\\2564844325.py:28: DtypeWarning: Columns (3) have mixed types. Specify dtype option on import or set low_memory=False.\n",
      "  green_taxi_data = pd.read_csv(green_taxi_data_file)\n"
     ]
    },
    {
     "name": "stdout",
     "output_type": "stream",
     "text": [
      "Archivo procesado y guardado: modified_green_tripdata_2019-03.csv\n"
     ]
    },
    {
     "name": "stderr",
     "output_type": "stream",
     "text": [
      "C:\\Users\\Eduardo\\AppData\\Local\\Temp\\ipykernel_8800\\2564844325.py:28: DtypeWarning: Columns (3) have mixed types. Specify dtype option on import or set low_memory=False.\n",
      "  green_taxi_data = pd.read_csv(green_taxi_data_file)\n"
     ]
    },
    {
     "name": "stdout",
     "output_type": "stream",
     "text": [
      "Archivo procesado y guardado: modified_green_tripdata_2019-04.csv\n"
     ]
    },
    {
     "name": "stderr",
     "output_type": "stream",
     "text": [
      "C:\\Users\\Eduardo\\AppData\\Local\\Temp\\ipykernel_8800\\2564844325.py:28: DtypeWarning: Columns (3) have mixed types. Specify dtype option on import or set low_memory=False.\n",
      "  green_taxi_data = pd.read_csv(green_taxi_data_file)\n"
     ]
    },
    {
     "name": "stdout",
     "output_type": "stream",
     "text": [
      "Archivo procesado y guardado: modified_green_tripdata_2019-05.csv\n"
     ]
    },
    {
     "name": "stderr",
     "output_type": "stream",
     "text": [
      "C:\\Users\\Eduardo\\AppData\\Local\\Temp\\ipykernel_8800\\2564844325.py:28: DtypeWarning: Columns (3) have mixed types. Specify dtype option on import or set low_memory=False.\n",
      "  green_taxi_data = pd.read_csv(green_taxi_data_file)\n"
     ]
    },
    {
     "name": "stdout",
     "output_type": "stream",
     "text": [
      "Archivo procesado y guardado: modified_green_tripdata_2019-06.csv\n"
     ]
    },
    {
     "name": "stderr",
     "output_type": "stream",
     "text": [
      "C:\\Users\\Eduardo\\AppData\\Local\\Temp\\ipykernel_8800\\2564844325.py:28: DtypeWarning: Columns (3) have mixed types. Specify dtype option on import or set low_memory=False.\n",
      "  green_taxi_data = pd.read_csv(green_taxi_data_file)\n"
     ]
    },
    {
     "name": "stdout",
     "output_type": "stream",
     "text": [
      "Archivo procesado y guardado: modified_green_tripdata_2019-07.csv\n"
     ]
    },
    {
     "name": "stderr",
     "output_type": "stream",
     "text": [
      "C:\\Users\\Eduardo\\AppData\\Local\\Temp\\ipykernel_8800\\2564844325.py:28: DtypeWarning: Columns (3) have mixed types. Specify dtype option on import or set low_memory=False.\n",
      "  green_taxi_data = pd.read_csv(green_taxi_data_file)\n"
     ]
    },
    {
     "name": "stdout",
     "output_type": "stream",
     "text": [
      "Archivo procesado y guardado: modified_green_tripdata_2019-08.csv\n"
     ]
    },
    {
     "name": "stderr",
     "output_type": "stream",
     "text": [
      "C:\\Users\\Eduardo\\AppData\\Local\\Temp\\ipykernel_8800\\2564844325.py:28: DtypeWarning: Columns (3) have mixed types. Specify dtype option on import or set low_memory=False.\n",
      "  green_taxi_data = pd.read_csv(green_taxi_data_file)\n"
     ]
    },
    {
     "name": "stdout",
     "output_type": "stream",
     "text": [
      "Archivo procesado y guardado: modified_green_tripdata_2019-09.csv\n"
     ]
    },
    {
     "name": "stderr",
     "output_type": "stream",
     "text": [
      "C:\\Users\\Eduardo\\AppData\\Local\\Temp\\ipykernel_8800\\2564844325.py:28: DtypeWarning: Columns (3) have mixed types. Specify dtype option on import or set low_memory=False.\n",
      "  green_taxi_data = pd.read_csv(green_taxi_data_file)\n"
     ]
    },
    {
     "name": "stdout",
     "output_type": "stream",
     "text": [
      "Archivo procesado y guardado: modified_green_tripdata_2019-10.csv\n"
     ]
    },
    {
     "name": "stderr",
     "output_type": "stream",
     "text": [
      "C:\\Users\\Eduardo\\AppData\\Local\\Temp\\ipykernel_8800\\2564844325.py:28: DtypeWarning: Columns (3) have mixed types. Specify dtype option on import or set low_memory=False.\n",
      "  green_taxi_data = pd.read_csv(green_taxi_data_file)\n"
     ]
    },
    {
     "name": "stdout",
     "output_type": "stream",
     "text": [
      "Archivo procesado y guardado: modified_green_tripdata_2019-11.csv\n"
     ]
    },
    {
     "name": "stderr",
     "output_type": "stream",
     "text": [
      "C:\\Users\\Eduardo\\AppData\\Local\\Temp\\ipykernel_8800\\2564844325.py:28: DtypeWarning: Columns (3) have mixed types. Specify dtype option on import or set low_memory=False.\n",
      "  green_taxi_data = pd.read_csv(green_taxi_data_file)\n"
     ]
    },
    {
     "name": "stdout",
     "output_type": "stream",
     "text": [
      "Archivo procesado y guardado: modified_green_tripdata_2019-12.csv\n"
     ]
    },
    {
     "name": "stderr",
     "output_type": "stream",
     "text": [
      "C:\\Users\\Eduardo\\AppData\\Local\\Temp\\ipykernel_8800\\2564844325.py:28: DtypeWarning: Columns (3) have mixed types. Specify dtype option on import or set low_memory=False.\n",
      "  green_taxi_data = pd.read_csv(green_taxi_data_file)\n"
     ]
    },
    {
     "name": "stdout",
     "output_type": "stream",
     "text": [
      "Archivo procesado y guardado: modified_green_tripdata_2020-01.csv\n"
     ]
    },
    {
     "name": "stderr",
     "output_type": "stream",
     "text": [
      "C:\\Users\\Eduardo\\AppData\\Local\\Temp\\ipykernel_8800\\2564844325.py:28: DtypeWarning: Columns (3) have mixed types. Specify dtype option on import or set low_memory=False.\n",
      "  green_taxi_data = pd.read_csv(green_taxi_data_file)\n"
     ]
    },
    {
     "name": "stdout",
     "output_type": "stream",
     "text": [
      "Archivo procesado y guardado: modified_green_tripdata_2020-02.csv\n"
     ]
    },
    {
     "name": "stderr",
     "output_type": "stream",
     "text": [
      "C:\\Users\\Eduardo\\AppData\\Local\\Temp\\ipykernel_8800\\2564844325.py:28: DtypeWarning: Columns (3) have mixed types. Specify dtype option on import or set low_memory=False.\n",
      "  green_taxi_data = pd.read_csv(green_taxi_data_file)\n"
     ]
    },
    {
     "name": "stdout",
     "output_type": "stream",
     "text": [
      "Archivo procesado y guardado: modified_green_tripdata_2020-03.csv\n"
     ]
    },
    {
     "name": "stderr",
     "output_type": "stream",
     "text": [
      "C:\\Users\\Eduardo\\AppData\\Local\\Temp\\ipykernel_8800\\2564844325.py:28: DtypeWarning: Columns (3) have mixed types. Specify dtype option on import or set low_memory=False.\n",
      "  green_taxi_data = pd.read_csv(green_taxi_data_file)\n"
     ]
    },
    {
     "name": "stdout",
     "output_type": "stream",
     "text": [
      "Archivo procesado y guardado: modified_green_tripdata_2020-04.csv\n"
     ]
    },
    {
     "name": "stderr",
     "output_type": "stream",
     "text": [
      "C:\\Users\\Eduardo\\AppData\\Local\\Temp\\ipykernel_8800\\2564844325.py:28: DtypeWarning: Columns (3) have mixed types. Specify dtype option on import or set low_memory=False.\n",
      "  green_taxi_data = pd.read_csv(green_taxi_data_file)\n"
     ]
    },
    {
     "name": "stdout",
     "output_type": "stream",
     "text": [
      "Archivo procesado y guardado: modified_green_tripdata_2020-05.csv\n",
      "Archivo procesado y guardado: modified_green_tripdata_2020-06.csv\n"
     ]
    },
    {
     "name": "stderr",
     "output_type": "stream",
     "text": [
      "C:\\Users\\Eduardo\\AppData\\Local\\Temp\\ipykernel_8800\\2564844325.py:28: DtypeWarning: Columns (3) have mixed types. Specify dtype option on import or set low_memory=False.\n",
      "  green_taxi_data = pd.read_csv(green_taxi_data_file)\n"
     ]
    },
    {
     "name": "stdout",
     "output_type": "stream",
     "text": [
      "Archivo procesado y guardado: modified_green_tripdata_2020-07.csv\n"
     ]
    },
    {
     "name": "stderr",
     "output_type": "stream",
     "text": [
      "C:\\Users\\Eduardo\\AppData\\Local\\Temp\\ipykernel_8800\\2564844325.py:28: DtypeWarning: Columns (3) have mixed types. Specify dtype option on import or set low_memory=False.\n",
      "  green_taxi_data = pd.read_csv(green_taxi_data_file)\n"
     ]
    },
    {
     "name": "stdout",
     "output_type": "stream",
     "text": [
      "Archivo procesado y guardado: modified_green_tripdata_2020-08.csv\n"
     ]
    },
    {
     "name": "stderr",
     "output_type": "stream",
     "text": [
      "C:\\Users\\Eduardo\\AppData\\Local\\Temp\\ipykernel_8800\\2564844325.py:28: DtypeWarning: Columns (3) have mixed types. Specify dtype option on import or set low_memory=False.\n",
      "  green_taxi_data = pd.read_csv(green_taxi_data_file)\n"
     ]
    },
    {
     "name": "stdout",
     "output_type": "stream",
     "text": [
      "Archivo procesado y guardado: modified_green_tripdata_2020-09.csv\n"
     ]
    },
    {
     "name": "stderr",
     "output_type": "stream",
     "text": [
      "C:\\Users\\Eduardo\\AppData\\Local\\Temp\\ipykernel_8800\\2564844325.py:28: DtypeWarning: Columns (3) have mixed types. Specify dtype option on import or set low_memory=False.\n",
      "  green_taxi_data = pd.read_csv(green_taxi_data_file)\n"
     ]
    },
    {
     "name": "stdout",
     "output_type": "stream",
     "text": [
      "Archivo procesado y guardado: modified_green_tripdata_2020-10.csv\n"
     ]
    },
    {
     "name": "stderr",
     "output_type": "stream",
     "text": [
      "C:\\Users\\Eduardo\\AppData\\Local\\Temp\\ipykernel_8800\\2564844325.py:28: DtypeWarning: Columns (3) have mixed types. Specify dtype option on import or set low_memory=False.\n",
      "  green_taxi_data = pd.read_csv(green_taxi_data_file)\n"
     ]
    },
    {
     "name": "stdout",
     "output_type": "stream",
     "text": [
      "Archivo procesado y guardado: modified_green_tripdata_2020-11.csv\n"
     ]
    },
    {
     "name": "stderr",
     "output_type": "stream",
     "text": [
      "C:\\Users\\Eduardo\\AppData\\Local\\Temp\\ipykernel_8800\\2564844325.py:28: DtypeWarning: Columns (3) have mixed types. Specify dtype option on import or set low_memory=False.\n",
      "  green_taxi_data = pd.read_csv(green_taxi_data_file)\n"
     ]
    },
    {
     "name": "stdout",
     "output_type": "stream",
     "text": [
      "Archivo procesado y guardado: modified_green_tripdata_2020-12.csv\n"
     ]
    },
    {
     "name": "stderr",
     "output_type": "stream",
     "text": [
      "C:\\Users\\Eduardo\\AppData\\Local\\Temp\\ipykernel_8800\\2564844325.py:28: DtypeWarning: Columns (3) have mixed types. Specify dtype option on import or set low_memory=False.\n",
      "  green_taxi_data = pd.read_csv(green_taxi_data_file)\n"
     ]
    },
    {
     "name": "stdout",
     "output_type": "stream",
     "text": [
      "Archivo procesado y guardado: modified_green_tripdata_2021-01.csv\n",
      "Archivo procesado y guardado: modified_green_tripdata_2021-02.csv\n"
     ]
    },
    {
     "name": "stderr",
     "output_type": "stream",
     "text": [
      "C:\\Users\\Eduardo\\AppData\\Local\\Temp\\ipykernel_8800\\2564844325.py:28: DtypeWarning: Columns (3) have mixed types. Specify dtype option on import or set low_memory=False.\n",
      "  green_taxi_data = pd.read_csv(green_taxi_data_file)\n"
     ]
    },
    {
     "name": "stdout",
     "output_type": "stream",
     "text": [
      "Archivo procesado y guardado: modified_green_tripdata_2021-03.csv\n"
     ]
    },
    {
     "name": "stderr",
     "output_type": "stream",
     "text": [
      "C:\\Users\\Eduardo\\AppData\\Local\\Temp\\ipykernel_8800\\2564844325.py:28: DtypeWarning: Columns (3) have mixed types. Specify dtype option on import or set low_memory=False.\n",
      "  green_taxi_data = pd.read_csv(green_taxi_data_file)\n"
     ]
    },
    {
     "name": "stdout",
     "output_type": "stream",
     "text": [
      "Archivo procesado y guardado: modified_green_tripdata_2021-04.csv\n"
     ]
    },
    {
     "name": "stderr",
     "output_type": "stream",
     "text": [
      "C:\\Users\\Eduardo\\AppData\\Local\\Temp\\ipykernel_8800\\2564844325.py:28: DtypeWarning: Columns (3) have mixed types. Specify dtype option on import or set low_memory=False.\n",
      "  green_taxi_data = pd.read_csv(green_taxi_data_file)\n"
     ]
    },
    {
     "name": "stdout",
     "output_type": "stream",
     "text": [
      "Archivo procesado y guardado: modified_green_tripdata_2021-05.csv\n"
     ]
    },
    {
     "name": "stderr",
     "output_type": "stream",
     "text": [
      "C:\\Users\\Eduardo\\AppData\\Local\\Temp\\ipykernel_8800\\2564844325.py:28: DtypeWarning: Columns (3) have mixed types. Specify dtype option on import or set low_memory=False.\n",
      "  green_taxi_data = pd.read_csv(green_taxi_data_file)\n"
     ]
    },
    {
     "name": "stdout",
     "output_type": "stream",
     "text": [
      "Archivo procesado y guardado: modified_green_tripdata_2021-06.csv\n"
     ]
    },
    {
     "name": "stderr",
     "output_type": "stream",
     "text": [
      "C:\\Users\\Eduardo\\AppData\\Local\\Temp\\ipykernel_8800\\2564844325.py:28: DtypeWarning: Columns (3) have mixed types. Specify dtype option on import or set low_memory=False.\n",
      "  green_taxi_data = pd.read_csv(green_taxi_data_file)\n"
     ]
    },
    {
     "name": "stdout",
     "output_type": "stream",
     "text": [
      "Archivo procesado y guardado: modified_green_tripdata_2021-07.csv\n"
     ]
    },
    {
     "name": "stderr",
     "output_type": "stream",
     "text": [
      "C:\\Users\\Eduardo\\AppData\\Local\\Temp\\ipykernel_8800\\2564844325.py:28: DtypeWarning: Columns (3) have mixed types. Specify dtype option on import or set low_memory=False.\n",
      "  green_taxi_data = pd.read_csv(green_taxi_data_file)\n"
     ]
    },
    {
     "name": "stdout",
     "output_type": "stream",
     "text": [
      "Archivo procesado y guardado: modified_green_tripdata_2021-08.csv\n"
     ]
    },
    {
     "name": "stderr",
     "output_type": "stream",
     "text": [
      "C:\\Users\\Eduardo\\AppData\\Local\\Temp\\ipykernel_8800\\2564844325.py:28: DtypeWarning: Columns (3) have mixed types. Specify dtype option on import or set low_memory=False.\n",
      "  green_taxi_data = pd.read_csv(green_taxi_data_file)\n"
     ]
    },
    {
     "name": "stdout",
     "output_type": "stream",
     "text": [
      "Archivo procesado y guardado: modified_green_tripdata_2021-09.csv\n"
     ]
    },
    {
     "name": "stderr",
     "output_type": "stream",
     "text": [
      "C:\\Users\\Eduardo\\AppData\\Local\\Temp\\ipykernel_8800\\2564844325.py:28: DtypeWarning: Columns (3) have mixed types. Specify dtype option on import or set low_memory=False.\n",
      "  green_taxi_data = pd.read_csv(green_taxi_data_file)\n"
     ]
    },
    {
     "name": "stdout",
     "output_type": "stream",
     "text": [
      "Archivo procesado y guardado: modified_green_tripdata_2021-10.csv\n"
     ]
    },
    {
     "name": "stderr",
     "output_type": "stream",
     "text": [
      "C:\\Users\\Eduardo\\AppData\\Local\\Temp\\ipykernel_8800\\2564844325.py:28: DtypeWarning: Columns (3) have mixed types. Specify dtype option on import or set low_memory=False.\n",
      "  green_taxi_data = pd.read_csv(green_taxi_data_file)\n"
     ]
    },
    {
     "name": "stdout",
     "output_type": "stream",
     "text": [
      "Archivo procesado y guardado: modified_green_tripdata_2021-11.csv\n"
     ]
    },
    {
     "name": "stderr",
     "output_type": "stream",
     "text": [
      "C:\\Users\\Eduardo\\AppData\\Local\\Temp\\ipykernel_8800\\2564844325.py:28: DtypeWarning: Columns (3) have mixed types. Specify dtype option on import or set low_memory=False.\n",
      "  green_taxi_data = pd.read_csv(green_taxi_data_file)\n"
     ]
    },
    {
     "name": "stdout",
     "output_type": "stream",
     "text": [
      "Archivo procesado y guardado: modified_green_tripdata_2021-12.csv\n",
      "Archivo procesado y guardado: modified_green_tripdata_2022-01.csv\n"
     ]
    },
    {
     "name": "stderr",
     "output_type": "stream",
     "text": [
      "C:\\Users\\Eduardo\\AppData\\Local\\Temp\\ipykernel_8800\\2564844325.py:28: DtypeWarning: Columns (3) have mixed types. Specify dtype option on import or set low_memory=False.\n",
      "  green_taxi_data = pd.read_csv(green_taxi_data_file)\n"
     ]
    },
    {
     "name": "stdout",
     "output_type": "stream",
     "text": [
      "Archivo procesado y guardado: modified_green_tripdata_2022-02.csv\n",
      "Archivo procesado y guardado: modified_green_tripdata_2022-03.csv\n",
      "Archivo procesado y guardado: modified_green_tripdata_2022-04.csv\n",
      "Archivo procesado y guardado: modified_green_tripdata_2022-05.csv\n"
     ]
    },
    {
     "name": "stderr",
     "output_type": "stream",
     "text": [
      "C:\\Users\\Eduardo\\AppData\\Local\\Temp\\ipykernel_8800\\2564844325.py:28: DtypeWarning: Columns (3) have mixed types. Specify dtype option on import or set low_memory=False.\n",
      "  green_taxi_data = pd.read_csv(green_taxi_data_file)\n"
     ]
    },
    {
     "name": "stdout",
     "output_type": "stream",
     "text": [
      "Archivo procesado y guardado: modified_green_tripdata_2022-06.csv\n",
      "Archivo procesado y guardado: modified_green_tripdata_2022-07.csv\n"
     ]
    },
    {
     "name": "stderr",
     "output_type": "stream",
     "text": [
      "C:\\Users\\Eduardo\\AppData\\Local\\Temp\\ipykernel_8800\\2564844325.py:28: DtypeWarning: Columns (3) have mixed types. Specify dtype option on import or set low_memory=False.\n",
      "  green_taxi_data = pd.read_csv(green_taxi_data_file)\n"
     ]
    },
    {
     "name": "stdout",
     "output_type": "stream",
     "text": [
      "Archivo procesado y guardado: modified_green_tripdata_2022-08.csv\n"
     ]
    },
    {
     "name": "stderr",
     "output_type": "stream",
     "text": [
      "C:\\Users\\Eduardo\\AppData\\Local\\Temp\\ipykernel_8800\\2564844325.py:28: DtypeWarning: Columns (3) have mixed types. Specify dtype option on import or set low_memory=False.\n",
      "  green_taxi_data = pd.read_csv(green_taxi_data_file)\n"
     ]
    },
    {
     "name": "stdout",
     "output_type": "stream",
     "text": [
      "Archivo procesado y guardado: modified_green_tripdata_2022-09.csv\n"
     ]
    },
    {
     "name": "stderr",
     "output_type": "stream",
     "text": [
      "C:\\Users\\Eduardo\\AppData\\Local\\Temp\\ipykernel_8800\\2564844325.py:28: DtypeWarning: Columns (3) have mixed types. Specify dtype option on import or set low_memory=False.\n",
      "  green_taxi_data = pd.read_csv(green_taxi_data_file)\n"
     ]
    },
    {
     "name": "stdout",
     "output_type": "stream",
     "text": [
      "Archivo procesado y guardado: modified_green_tripdata_2022-10.csv\n",
      "Archivo procesado y guardado: modified_green_tripdata_2022-11.csv\n"
     ]
    },
    {
     "name": "stderr",
     "output_type": "stream",
     "text": [
      "C:\\Users\\Eduardo\\AppData\\Local\\Temp\\ipykernel_8800\\2564844325.py:28: DtypeWarning: Columns (3) have mixed types. Specify dtype option on import or set low_memory=False.\n",
      "  green_taxi_data = pd.read_csv(green_taxi_data_file)\n"
     ]
    },
    {
     "name": "stdout",
     "output_type": "stream",
     "text": [
      "Archivo procesado y guardado: modified_green_tripdata_2022-12.csv\n"
     ]
    },
    {
     "name": "stderr",
     "output_type": "stream",
     "text": [
      "C:\\Users\\Eduardo\\AppData\\Local\\Temp\\ipykernel_8800\\2564844325.py:28: DtypeWarning: Columns (3) have mixed types. Specify dtype option on import or set low_memory=False.\n",
      "  green_taxi_data = pd.read_csv(green_taxi_data_file)\n"
     ]
    },
    {
     "name": "stdout",
     "output_type": "stream",
     "text": [
      "Archivo procesado y guardado: modified_green_tripdata_2023-01.csv\n",
      "Archivo procesado y guardado: modified_green_tripdata_2023-02.csv\n",
      "Archivo procesado y guardado: modified_green_tripdata_2023-04.csv\n"
     ]
    },
    {
     "name": "stderr",
     "output_type": "stream",
     "text": [
      "C:\\Users\\Eduardo\\AppData\\Local\\Temp\\ipykernel_8800\\2564844325.py:28: DtypeWarning: Columns (3) have mixed types. Specify dtype option on import or set low_memory=False.\n",
      "  green_taxi_data = pd.read_csv(green_taxi_data_file)\n"
     ]
    },
    {
     "name": "stdout",
     "output_type": "stream",
     "text": [
      "Archivo procesado y guardado: modified_green_tripdata_2023-06.csv\n"
     ]
    }
   ],
   "source": [
    "import pandas as pd\n",
    "import os\n",
    "\n",
    "# Ruta al archivo de búsqueda de zonas de taxi\n",
    "taxi_zone_lookup_file = 'taxi+_zone_lookup.csv'\n",
    "\n",
    "# Leer datos de búsqueda de zonas de taxi\n",
    "try:\n",
    "    taxi_zone_lookup = pd.read_csv(taxi_zone_lookup_file)\n",
    "    print(\"Archivo de zonas de taxi cargado correctamente.\")\n",
    "except Exception as e:\n",
    "    print(f\"Error al leer el archivo de búsqueda de zonas de taxi: {str(e)}\")\n",
    "\n",
    "# Ruta a la carpeta que contiene los archivos CSV de los viajes en taxi verde\n",
    "green_taxi_data_folder = 'CSV_Green_Taxis/Green_Taxis'\n",
    "\n",
    "# Lista de archivos CSV en la carpeta\n",
    "green_taxi_data_files = os.listdir(green_taxi_data_folder)\n",
    "\n",
    "# Procesar cada archivo CSV de viajes en taxi verde\n",
    "for file in green_taxi_data_files:\n",
    "    if file.endswith('.csv'):\n",
    "        try:\n",
    "            # Ruta completa al archivo CSV de viajes en taxi verde\n",
    "            green_taxi_data_file = os.path.join(green_taxi_data_folder, file)\n",
    "\n",
    "            # Leer datos de viajes en taxi verde\n",
    "            green_taxi_data = pd.read_csv(green_taxi_data_file)\n",
    "\n",
    "            # Fusionar información de zonas (ejemplo: PULocationID y DOLocationID con LocationID)\n",
    "            green_taxi_data_with_zones = green_taxi_data.merge(\n",
    "                taxi_zone_lookup[['LocationID', 'Borough']],\n",
    "                left_on='PULocationID',\n",
    "                right_on='LocationID',\n",
    "                how='left'\n",
    "            )\n",
    "            green_taxi_data_with_zones.rename(columns={'Borough': 'pickup_borough'}, inplace=True)\n",
    "            green_taxi_data_with_zones = green_taxi_data_with_zones.merge(\n",
    "                taxi_zone_lookup[['LocationID', 'Borough']],\n",
    "                left_on='DOLocationID',\n",
    "                right_on='LocationID',\n",
    "                how='left'\n",
    "            )\n",
    "            green_taxi_data_with_zones.rename(columns={'Borough': 'dropoff_borough'}, inplace=True)\n",
    "\n",
    "            # Eliminar columnas 'LocationID' duplicadas\n",
    "            green_taxi_data_with_zones.drop(columns=['LocationID_x', 'LocationID_y'], inplace=True)\n",
    "\n",
    "            # Guardar el archivo modificado\n",
    "            new_file_name = 'modified_' + file\n",
    "            green_taxi_data_with_zones.to_csv(os.path.join(green_taxi_data_folder, new_file_name), index=False)\n",
    "\n",
    "            print(f\"Archivo procesado y guardado: {new_file_name}\")\n",
    "\n",
    "        except Exception as e:\n",
    "            print(f\"Error al procesar el archivo {file}: {str(e)}\")\n"
   ]
  },
  {
   "cell_type": "markdown",
   "metadata": {},
   "source": [
    "1\n"
   ]
  },
  {
   "cell_type": "code",
   "execution_count": 4,
   "metadata": {},
   "outputs": [],
   "source": [
    "import pandas as pd\n",
    "import os\n",
    "from datetime import datetime\n",
    "\n",
    "# Rutas a los archivos necesarios\n",
    "green_taxi_data_folder = 'CSV_Green_Taxis/Green_Taxis' \n",
    "edmunds_data_path = 'processed_edmunds_data.csv'  \n",
    "fuel_data_path = 'Combustible_por_mes.csv'  \n",
    "\n",
    "# Cargar datos de emisiones y combustible\n",
    "edmunds_data = pd.read_csv(edmunds_data_path)\n",
    "fuel_data = pd.read_csv(fuel_data_path)\n",
    "\n",
    "# Calcular la media de emisiones de CO2 y ruido para vehículos no eléctricos\n",
    "average_co2_emissions = edmunds_data[edmunds_data['Es_Electrico'] == 0]['CO2 Emissions (g/mi)'].mean()\n",
    "average_sound_emission = edmunds_data[edmunds_data['Es_Electrico'] == 0]['Sound Emission (dB)'].mean()\n",
    "\n",
    "# Calcular la media de City MPG para vehículos no eléctricos\n",
    "average_city_mpg = edmunds_data[edmunds_data['Es_Electrico'] == 0]['City MPG'].mean()\n"
   ]
  },
  {
   "cell_type": "markdown",
   "metadata": {},
   "source": [
    "2 funcion para colapsar"
   ]
  },
  {
   "cell_type": "code",
   "execution_count": 12,
   "metadata": {},
   "outputs": [],
   "source": [
    "import os\n",
    "import pandas as pd\n",
    "\n",
    "def process_taxi_data_with_exclusions(file_path):\n",
    "    try:\n",
    "        taxi_data = pd.read_csv(file_path)\n",
    "        taxi_data['lpep_pickup_datetime'] = pd.to_datetime(taxi_data['lpep_pickup_datetime'])\n",
    "        taxi_data['lpep_dropoff_datetime'] = pd.to_datetime(taxi_data['lpep_dropoff_datetime'])\n",
    "        taxi_data['year'] = taxi_data['lpep_pickup_datetime'].dt.year\n",
    "        taxi_data['month'] = taxi_data['lpep_pickup_datetime'].dt.month\n",
    "        taxi_data['trip_duration'] = (taxi_data['lpep_dropoff_datetime'] - taxi_data['lpep_pickup_datetime']).dt.total_seconds() / 60\n",
    "        taxi_data.rename(columns={'pickup_borough': 'borough'}, inplace=True)\n",
    "        \n",
    "        # Eliminar filas con datos faltantes o negativos en campos críticos\n",
    "        cleaned_data = taxi_data[\n",
    "            (taxi_data['trip_duration'] > 0) & \n",
    "            (taxi_data['trip_distance'] > 0)\n",
    "        ].dropna(subset=['borough', 'lpep_pickup_datetime', 'lpep_dropoff_datetime', 'trip_distance'])\n",
    "        \n",
    "        # Agrupar por borough, año y mes, y calcular estadísticas\n",
    "        grouped_data = cleaned_data.groupby(['borough', 'year', 'month']).agg(\n",
    "            average_trip_duration=('trip_duration', 'mean'),\n",
    "            average_trip_distance=('trip_distance', 'mean'),\n",
    "            total_miles=('trip_distance', 'sum'),  # Agregar cálculo de total_miles\n",
    "            total_trips=('trip_distance', 'count')\n",
    "        ).reset_index()\n",
    "        return grouped_data\n",
    "    except Exception as e:\n",
    "        return f\"Error al procesar el archivo: {str(e)}\"\n",
    "\n",
    "def process_all_files(source_folder, collapsed_folder):\n",
    "    # Asegurarse de que el directorio de salida exista\n",
    "    if not os.path.exists(collapsed_folder):\n",
    "        os.makedirs(collapsed_folder)\n",
    "\n",
    "    # Lista todos los archivos CSV en la carpeta de origen\n",
    "    csv_files = [file for file in os.listdir(source_folder) if file.endswith('.csv')]\n",
    "\n",
    "    # Procesar cada archivo CSV\n",
    "    for file in csv_files:\n",
    "        full_file_path = os.path.join(source_folder, file)\n",
    "        grouped_data = process_taxi_data_with_exclusions(full_file_path)\n",
    "        if isinstance(grouped_data, pd.DataFrame):\n",
    "            collapsed_file_name = file.replace('.csv', '_collapsed.csv')\n",
    "            collapsed_file_path = os.path.join(collapsed_folder, collapsed_file_name)\n",
    "            grouped_data.to_csv(collapsed_file_path, index=False)\n",
    "            print(f\"Archivo {collapsed_file_name} procesado y guardado con éxito.\")\n",
    "        else:\n",
    "            print(grouped_data)\n",
    "\n",
    "# Rutas de las carpetas de origen y destino\n",
    "source_folder = 'CSV_Green_Taxis/Green_Taxis'\n",
    "collapsed_folder = 'colapsed_green_taxis'\n",
    "\n",
    "# Procesar todos los archivos\n",
    "process_all_files(source_folder, collapsed_folder)\n"
   ]
  },
  {
   "cell_type": "markdown",
   "metadata": {},
   "source": [
    "combinar dfs"
   ]
  },
  {
   "cell_type": "code",
   "execution_count": 6,
   "metadata": {},
   "outputs": [],
   "source": [
    "import pandas as pd\n",
    "import os\n",
    "from datetime import datetime\n",
    "\n",
    "# Directorio donde están almacenados los archivos colapsados\n",
    "collapsed_folder = 'colapsed_green_taxis'  \n",
    "\n",
    "# Lista de archivos colapsados en la carpeta\n",
    "collapsed_data_files = [file for file in os.listdir(collapsed_folder) if file.endswith('_collapsed.csv')]\n",
    "\n",
    "# Lista para almacenar los DataFrames importados\n",
    "all_collapsed_data = []\n",
    "\n",
    "# Importar cada archivo colapsado y agregarlo a la lista\n",
    "for file in collapsed_data_files:\n",
    "    file_path = os.path.join(collapsed_folder, file)\n",
    "    collapsed_data = pd.read_csv(file_path)\n",
    "    all_collapsed_data.append(collapsed_data)\n",
    "\n",
    "# Combinar todos los DataFrames colapsados en uno solo\n",
    "final_data = pd.concat(all_collapsed_data)\n",
    "\n",
    "# Asegurarse de que los datos están en el formato correcto\n",
    "final_data['year'] = final_data['year'].astype(int)\n",
    "final_data['month'] = final_data['month'].astype(int)\n",
    "\n",
    "\n",
    "final_data.to_csv(\"cuasifinal_green.csv\")\n",
    "\n",
    "\n",
    "\n"
   ]
  },
  {
   "cell_type": "markdown",
   "metadata": {},
   "source": [
    "vamos a corregir los valores duplicados en algunos df, años y meses que no deberían estar allí "
   ]
  },
  {
   "cell_type": "code",
   "execution_count": 1,
   "metadata": {},
   "outputs": [
    {
     "name": "stdout",
     "output_type": "stream",
     "text": [
      "Archivo modified_green_tripdata_2014-01_collapsed_curated.csv procesado y guardado con éxito.\n",
      "Archivo modified_green_tripdata_2014-02_collapsed_curated.csv procesado y guardado con éxito.\n",
      "Archivo modified_green_tripdata_2014-03_collapsed_curated.csv procesado y guardado con éxito.\n",
      "Archivo modified_green_tripdata_2014-04_collapsed_curated.csv procesado y guardado con éxito.\n",
      "Archivo modified_green_tripdata_2014-05_collapsed_curated.csv procesado y guardado con éxito.\n",
      "Archivo modified_green_tripdata_2014-06_collapsed_curated.csv procesado y guardado con éxito.\n",
      "Archivo modified_green_tripdata_2014-07_collapsed_curated.csv procesado y guardado con éxito.\n",
      "Archivo modified_green_tripdata_2014-08_collapsed_curated.csv procesado y guardado con éxito.\n",
      "Archivo modified_green_tripdata_2014-09_collapsed_curated.csv procesado y guardado con éxito.\n",
      "Archivo modified_green_tripdata_2014-10_collapsed_curated.csv procesado y guardado con éxito.\n",
      "Archivo modified_green_tripdata_2014-11_collapsed_curated.csv procesado y guardado con éxito.\n",
      "Archivo modified_green_tripdata_2014-12_collapsed_curated.csv procesado y guardado con éxito.\n",
      "Archivo modified_green_tripdata_2015-01_collapsed_curated.csv procesado y guardado con éxito.\n",
      "Archivo modified_green_tripdata_2015-02_collapsed_curated.csv procesado y guardado con éxito.\n",
      "Archivo modified_green_tripdata_2015-03_collapsed_curated.csv procesado y guardado con éxito.\n",
      "Archivo modified_green_tripdata_2015-04_collapsed_curated.csv procesado y guardado con éxito.\n",
      "Archivo modified_green_tripdata_2015-05_collapsed_curated.csv procesado y guardado con éxito.\n",
      "Archivo modified_green_tripdata_2015-06_collapsed_curated.csv procesado y guardado con éxito.\n",
      "Archivo modified_green_tripdata_2015-07_collapsed_curated.csv procesado y guardado con éxito.\n",
      "Archivo modified_green_tripdata_2015-08_collapsed_curated.csv procesado y guardado con éxito.\n",
      "Archivo modified_green_tripdata_2015-09_collapsed_curated.csv procesado y guardado con éxito.\n",
      "Archivo modified_green_tripdata_2015-10_collapsed_curated.csv procesado y guardado con éxito.\n",
      "Archivo modified_green_tripdata_2015-11_collapsed_curated.csv procesado y guardado con éxito.\n",
      "Archivo modified_green_tripdata_2015-12_collapsed_curated.csv procesado y guardado con éxito.\n",
      "Archivo modified_green_tripdata_2016-01_collapsed_curated.csv procesado y guardado con éxito.\n",
      "Archivo modified_green_tripdata_2016-02_collapsed_curated.csv procesado y guardado con éxito.\n",
      "Archivo modified_green_tripdata_2016-03_collapsed_curated.csv procesado y guardado con éxito.\n",
      "Archivo modified_green_tripdata_2016-04_collapsed_curated.csv procesado y guardado con éxito.\n",
      "Archivo modified_green_tripdata_2016-05_collapsed_curated.csv procesado y guardado con éxito.\n",
      "Archivo modified_green_tripdata_2016-06_collapsed_curated.csv procesado y guardado con éxito.\n",
      "Archivo modified_green_tripdata_2016-07_collapsed_curated.csv procesado y guardado con éxito.\n",
      "Archivo modified_green_tripdata_2016-08_collapsed_curated.csv procesado y guardado con éxito.\n",
      "Archivo modified_green_tripdata_2016-09_collapsed_curated.csv procesado y guardado con éxito.\n",
      "Archivo modified_green_tripdata_2016-10_collapsed_curated.csv procesado y guardado con éxito.\n",
      "Archivo modified_green_tripdata_2016-11_collapsed_curated.csv procesado y guardado con éxito.\n",
      "Archivo modified_green_tripdata_2016-12_collapsed_curated.csv procesado y guardado con éxito.\n",
      "Archivo modified_green_tripdata_2017-01_collapsed_curated.csv procesado y guardado con éxito.\n",
      "Archivo modified_green_tripdata_2017-02_collapsed_curated.csv procesado y guardado con éxito.\n",
      "Archivo modified_green_tripdata_2017-03_collapsed_curated.csv procesado y guardado con éxito.\n",
      "Archivo modified_green_tripdata_2017-04_collapsed_curated.csv procesado y guardado con éxito.\n",
      "Archivo modified_green_tripdata_2017-05_collapsed_curated.csv procesado y guardado con éxito.\n",
      "Archivo modified_green_tripdata_2017-06_collapsed_curated.csv procesado y guardado con éxito.\n",
      "Archivo modified_green_tripdata_2017-07_collapsed_curated.csv procesado y guardado con éxito.\n",
      "Archivo modified_green_tripdata_2017-08_collapsed_curated.csv procesado y guardado con éxito.\n",
      "Archivo modified_green_tripdata_2017-09_collapsed_curated.csv procesado y guardado con éxito.\n",
      "Archivo modified_green_tripdata_2017-10_collapsed_curated.csv procesado y guardado con éxito.\n",
      "Archivo modified_green_tripdata_2017-11_collapsed_curated.csv procesado y guardado con éxito.\n",
      "Archivo modified_green_tripdata_2017-12_collapsed_curated.csv procesado y guardado con éxito.\n",
      "Archivo modified_green_tripdata_2018-01_collapsed_curated.csv procesado y guardado con éxito.\n",
      "Archivo modified_green_tripdata_2018-02_collapsed_curated.csv procesado y guardado con éxito.\n",
      "Archivo modified_green_tripdata_2018-03_collapsed_curated.csv procesado y guardado con éxito.\n",
      "Archivo modified_green_tripdata_2018-04_collapsed_curated.csv procesado y guardado con éxito.\n",
      "Archivo modified_green_tripdata_2018-05_collapsed_curated.csv procesado y guardado con éxito.\n",
      "Archivo modified_green_tripdata_2018-06_collapsed_curated.csv procesado y guardado con éxito.\n",
      "Archivo modified_green_tripdata_2018-07_collapsed_curated.csv procesado y guardado con éxito.\n",
      "Archivo modified_green_tripdata_2018-08_collapsed_curated.csv procesado y guardado con éxito.\n",
      "Archivo modified_green_tripdata_2018-09_collapsed_curated.csv procesado y guardado con éxito.\n",
      "Archivo modified_green_tripdata_2018-10_collapsed_curated.csv procesado y guardado con éxito.\n",
      "Archivo modified_green_tripdata_2018-11_collapsed_curated.csv procesado y guardado con éxito.\n",
      "Archivo modified_green_tripdata_2018-12_collapsed_curated.csv procesado y guardado con éxito.\n",
      "Archivo modified_green_tripdata_2019-01_collapsed_curated.csv procesado y guardado con éxito.\n",
      "Archivo modified_green_tripdata_2019-02_collapsed_curated.csv procesado y guardado con éxito.\n",
      "Archivo modified_green_tripdata_2019-03_collapsed_curated.csv procesado y guardado con éxito.\n",
      "Archivo modified_green_tripdata_2019-04_collapsed_curated.csv procesado y guardado con éxito.\n",
      "Archivo modified_green_tripdata_2019-05_collapsed_curated.csv procesado y guardado con éxito.\n",
      "Archivo modified_green_tripdata_2019-06_collapsed_curated.csv procesado y guardado con éxito.\n",
      "Archivo modified_green_tripdata_2019-07_collapsed_curated.csv procesado y guardado con éxito.\n",
      "Archivo modified_green_tripdata_2019-08_collapsed_curated.csv procesado y guardado con éxito.\n",
      "Archivo modified_green_tripdata_2019-09_collapsed_curated.csv procesado y guardado con éxito.\n",
      "Archivo modified_green_tripdata_2019-10_collapsed_curated.csv procesado y guardado con éxito.\n",
      "Archivo modified_green_tripdata_2019-11_collapsed_curated.csv procesado y guardado con éxito.\n",
      "Archivo modified_green_tripdata_2019-12_collapsed_curated.csv procesado y guardado con éxito.\n",
      "Archivo modified_green_tripdata_2020-01_collapsed_curated.csv procesado y guardado con éxito.\n",
      "Archivo modified_green_tripdata_2020-02_collapsed_curated.csv procesado y guardado con éxito.\n",
      "Archivo modified_green_tripdata_2020-03_collapsed_curated.csv procesado y guardado con éxito.\n",
      "Archivo modified_green_tripdata_2020-04_collapsed_curated.csv procesado y guardado con éxito.\n",
      "Archivo modified_green_tripdata_2020-05_collapsed_curated.csv procesado y guardado con éxito.\n",
      "Archivo modified_green_tripdata_2020-06_collapsed_curated.csv procesado y guardado con éxito.\n",
      "Archivo modified_green_tripdata_2020-07_collapsed_curated.csv procesado y guardado con éxito.\n",
      "Archivo modified_green_tripdata_2020-08_collapsed_curated.csv procesado y guardado con éxito.\n",
      "Archivo modified_green_tripdata_2020-09_collapsed_curated.csv procesado y guardado con éxito.\n",
      "Archivo modified_green_tripdata_2020-10_collapsed_curated.csv procesado y guardado con éxito.\n",
      "Archivo modified_green_tripdata_2020-11_collapsed_curated.csv procesado y guardado con éxito.\n",
      "Archivo modified_green_tripdata_2020-12_collapsed_curated.csv procesado y guardado con éxito.\n",
      "Archivo modified_green_tripdata_2021-01_collapsed_curated.csv procesado y guardado con éxito.\n",
      "Archivo modified_green_tripdata_2021-02_collapsed_curated.csv procesado y guardado con éxito.\n",
      "Archivo modified_green_tripdata_2021-03_collapsed_curated.csv procesado y guardado con éxito.\n",
      "Archivo modified_green_tripdata_2021-04_collapsed_curated.csv procesado y guardado con éxito.\n",
      "Archivo modified_green_tripdata_2021-05_collapsed_curated.csv procesado y guardado con éxito.\n",
      "Archivo modified_green_tripdata_2021-06_collapsed_curated.csv procesado y guardado con éxito.\n",
      "Archivo modified_green_tripdata_2021-07_collapsed_curated.csv procesado y guardado con éxito.\n",
      "Archivo modified_green_tripdata_2021-08_collapsed_curated.csv procesado y guardado con éxito.\n",
      "Archivo modified_green_tripdata_2021-09_collapsed_curated.csv procesado y guardado con éxito.\n",
      "Archivo modified_green_tripdata_2021-10_collapsed_curated.csv procesado y guardado con éxito.\n",
      "Archivo modified_green_tripdata_2021-11_collapsed_curated.csv procesado y guardado con éxito.\n",
      "Archivo modified_green_tripdata_2021-12_collapsed_curated.csv procesado y guardado con éxito.\n",
      "Archivo modified_green_tripdata_2022-01_collapsed_curated.csv procesado y guardado con éxito.\n",
      "Archivo modified_green_tripdata_2022-02_collapsed_curated.csv procesado y guardado con éxito.\n",
      "Archivo modified_green_tripdata_2022-03_collapsed_curated.csv procesado y guardado con éxito.\n",
      "Archivo modified_green_tripdata_2022-04_collapsed_curated.csv procesado y guardado con éxito.\n",
      "Archivo modified_green_tripdata_2022-05_collapsed_curated.csv procesado y guardado con éxito.\n",
      "Archivo modified_green_tripdata_2022-06_collapsed_curated.csv procesado y guardado con éxito.\n",
      "Archivo modified_green_tripdata_2022-07_collapsed_curated.csv procesado y guardado con éxito.\n",
      "Archivo modified_green_tripdata_2022-08_collapsed_curated.csv procesado y guardado con éxito.\n",
      "Archivo modified_green_tripdata_2022-09_collapsed_curated.csv procesado y guardado con éxito.\n",
      "Archivo modified_green_tripdata_2022-10_collapsed_curated.csv procesado y guardado con éxito.\n",
      "Archivo modified_green_tripdata_2022-11_collapsed_curated.csv procesado y guardado con éxito.\n",
      "Archivo modified_green_tripdata_2022-12_collapsed_curated.csv procesado y guardado con éxito.\n",
      "Archivo modified_green_tripdata_2023-01_collapsed_curated.csv procesado y guardado con éxito.\n",
      "Archivo modified_green_tripdata_2023-02_collapsed_curated.csv procesado y guardado con éxito.\n",
      "Archivo modified_green_tripdata_2023-04_collapsed_curated.csv procesado y guardado con éxito.\n",
      "Archivo modified_green_tripdata_2023-06_collapsed_curated.csv procesado y guardado con éxito.\n",
      "Todos los archivos han sido procesados y unificados en cuasifinal_green.csv\n"
     ]
    }
   ],
   "source": [
    "import pandas as pd\n",
    "import os\n",
    "from datetime import datetime\n",
    "\n",
    "def process_and_curate_file(file_path):\n",
    "    try:\n",
    "        # Extraer año y mes del nombre del archivo\n",
    "        file_name = os.path.basename(file_path)\n",
    "        year, month = map(int, file_name.replace('modified_green_tripdata_', '').replace('_collapsed.csv', '').split('-'))\n",
    "        \n",
    "        # Cargar datos\n",
    "        data = pd.read_csv(file_path)\n",
    "        \n",
    "        # Actualizar los valores de 'year' y 'month' en todas las filas\n",
    "        data['year'] = year\n",
    "        data['month'] = month\n",
    "\n",
    "        # Combinar filas si hay múltiples entradas para el mismo borough, mes y año\n",
    "        data_grouped = data.groupby(['borough', 'year', 'month']).mean().reset_index()\n",
    "        return data_grouped\n",
    "    except Exception as e:\n",
    "        return f\"Error al procesar el archivo {file_path}: {str(e)}\"\n",
    "\n",
    "def curate_all_files(source_folder, curated_folder):\n",
    "    if not os.path.exists(curated_folder):\n",
    "        os.makedirs(curated_folder)\n",
    "\n",
    "    csv_files = [file for file in os.listdir(source_folder) if file.endswith('_collapsed.csv')]\n",
    "    all_curated_data = []\n",
    "\n",
    "    for file in csv_files:\n",
    "        full_file_path = os.path.join(source_folder, file)\n",
    "        curated_data = process_and_curate_file(full_file_path)\n",
    "        if isinstance(curated_data, pd.DataFrame):\n",
    "            curated_file_name = file.replace('.csv', '_curated.csv')\n",
    "            curated_file_path = os.path.join(curated_folder, curated_file_name)\n",
    "            curated_data.to_csv(curated_file_path, index=False)\n",
    "            print(f\"Archivo {curated_file_name} procesado y guardado con éxito.\")\n",
    "            all_curated_data.append(curated_data)\n",
    "        else:\n",
    "            print(curated_data)\n",
    "\n",
    "    # Unir todos los archivos curados\n",
    "    final_data = pd.concat(all_curated_data)\n",
    "    final_data.to_csv(\"cuasifinal_green.csv\", index=False)\n",
    "    print(\"Todos los archivos han sido procesados y unificados en cuasifinal_green.csv\")\n",
    "\n",
    "# Rutas de las carpetas de origen y destino\n",
    "source_folder = 'colapsed_green_taxis'\n",
    "curated_folder = 'colapsed_green_taxis_curado'\n",
    "\n",
    "# Procesar y curar todos los archivos\n",
    "curate_all_files(source_folder, curated_folder)\n",
    "\n"
   ]
  },
  {
   "cell_type": "markdown",
   "metadata": {},
   "source": [
    "añadir costos"
   ]
  },
  {
   "cell_type": "code",
   "execution_count": 4,
   "metadata": {},
   "outputs": [
    {
     "name": "stdout",
     "output_type": "stream",
     "text": [
      "[2014, 2015, 2016, 2017, 2018, 2019, 2020, 2021, 2022, 2023]\n"
     ]
    }
   ],
   "source": [
    "final_data=pd.read_csv(\"cuasifinal_green.csv\")\n",
    "\n",
    "unique_years = final_data['year'].unique()\n",
    "print(sorted(unique_years))\n"
   ]
  },
  {
   "cell_type": "code",
   "execution_count": 11,
   "metadata": {},
   "outputs": [],
   "source": [
    "# Cargar datos de emisiones y combustible\n",
    "fuel_data = pd.read_csv('Combustible_por_mes.csv', index_col='Month')\n",
    "\n",
    "edmunds_data = pd.read_csv(edmunds_data_path)\n",
    "\n",
    "# Calcular la media de emisiones de CO2, ruido y City MPG para vehículos no eléctricos\n",
    "average_co2_emissions = edmunds_data[edmunds_data['Es_Electrico'] == 0]['CO2 Emissions (g/mi)'].mean()\n",
    "average_sound_emission = edmunds_data[edmunds_data['Es_Electrico'] == 0]['Sound Emission (dB)'].mean()\n",
    "average_city_mpg = edmunds_data[edmunds_data['Es_Electrico'] == 0]['City MPG'].mean()\n",
    "\n",
    "\n",
    "def get_fuel_cost(month, year, fuel_data):\n",
    "    # Convertir el mes a formato numérico, si es necesario\n",
    "    month = int(month)\n",
    "\n",
    "    # Retornar el costo del combustible para el mes y año dados\n",
    "    return fuel_data.loc[month, str(year)]\n",
    "\n",
    "# Código para calcular el costo mensual, CO2 y ruido\n",
    "final_data['co2_month'] = final_data['total_miles'] * average_co2_emissions\n",
    "final_data['noise_month'] = final_data['total_trips'] * average_sound_emission\n",
    "final_data['cost_month'] = final_data.apply(\n",
    "    lambda row: (row['total_miles'] / average_city_mpg) * get_fuel_cost(row['month'], row['year'], fuel_data)\n",
    "    if get_fuel_cost(row['month'], row['year'], fuel_data) is not None else None,\n",
    "    axis=1\n",
    ")\n",
    "\n",
    "# Exportar el DataFrame final unificado\n",
    "final_output_file_path = 'Final_green_co_ruido_costo.csv'\n",
    "final_data.to_csv(final_output_file_path, index=False)\n"
   ]
  },
  {
   "cell_type": "markdown",
   "metadata": {},
   "source": [
    "Modelo y base exportada. "
   ]
  }
 ],
 "metadata": {
  "kernelspec": {
   "display_name": "henry",
   "language": "python",
   "name": "python3"
  },
  "language_info": {
   "codemirror_mode": {
    "name": "ipython",
    "version": 3
   },
   "file_extension": ".py",
   "mimetype": "text/x-python",
   "name": "python",
   "nbconvert_exporter": "python",
   "pygments_lexer": "ipython3",
   "version": "3.9.18"
  }
 },
 "nbformat": 4,
 "nbformat_minor": 2
}
