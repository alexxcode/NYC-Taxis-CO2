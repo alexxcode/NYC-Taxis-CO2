{
 "cells": [
  {
   "cell_type": "code",
   "execution_count": 1,
   "metadata": {},
   "outputs": [],
   "source": [
    "import os\n",
    "import requests\n",
    "from bs4 import BeautifulSoup\n",
    "import pandas as pd\n",
    "import json"
   ]
  },
  {
   "cell_type": "code",
   "execution_count": 2,
   "metadata": {},
   "outputs": [],
   "source": [
    "url = \"https://www.nyc.gov/site/tlc/about/tlc-trip-record-data.page\"\n",
    "response = requests.get(url)\n",
    "soup = BeautifulSoup(response.content, \"html.parser\") # Contenido de la pagina\n",
    "parquet_files = [] # Creo una lista para alojar todos los links que sean de los archivos parquet"
   ]
  },
  {
   "cell_type": "code",
   "execution_count": 3,
   "metadata": {},
   "outputs": [
    {
     "name": "stdout",
     "output_type": "stream",
     "text": [
      "48 links parquet se cargaron\n"
     ]
    }
   ],
   "source": [
    "# Hago una filtración de los archivos que pertenecen solamente a los años que nos importan\n",
    "selected_years = ['2021', '2022', '2023']\n",
    "\n",
    "\n",
    "for link in soup.find_all('a',href=True): # Busco todos los elementos que sean links\n",
    "  if link['href'].endswith('.parquet'): # Si el elemento termina en .parquet, añado el elemento a la lista parquet_files\n",
    "    if any(year in link['href'] for year in selected_years):\n",
    "      parquet_files.append(link['href'])\n",
    "print(f'{len(parquet_files)} links parquet se cargaron')"
   ]
  },
  {
   "cell_type": "code",
   "execution_count": 4,
   "metadata": {},
   "outputs": [
    {
     "data": {
      "text/plain": [
       "48"
      ]
     },
     "execution_count": 4,
     "metadata": {},
     "output_type": "execute_result"
    }
   ],
   "source": [
    "numero_de_elementos_parquet= len(parquet_files)\n",
    "numero_de_elementos_parquet"
   ]
  },
  {
   "cell_type": "code",
   "execution_count": 6,
   "metadata": {},
   "outputs": [],
   "source": [
    "\n",
    "yellow_taxis = []\n",
    "green_taxis = []\n",
    "fhv_taxis = []\n",
    "fhvhv_taxis = []\n",
    "\n",
    "for link in parquet_files:\n",
    "  if 'yellow_tripdata' in link: # Todos los links que contengan 'yellow_tripdata' en su texto\n",
    "    yellow_taxis.append(link)\n",
    "  elif 'green_tripdata' in link: # Todos los links que contengan 'green_tripdata' en su texto\n",
    "    green_taxis.append(link)\n",
    "  elif 'fhv_tripdata' in link: # Todos los links que contengan 'fhv_tripdata' en su texto\n",
    "    fhv_taxis.append(link)\n",
    "  elif 'fhvhv_tripdata' in link: # Todos los links que contengan 'fhvhv_tripdata' en su texto\n",
    "    fhvhv_taxis.append(link)\n",
    "\n",
    "yellow_taxis = sorted(yellow_taxis, reverse=True)\n",
    "green_taxis = sorted(green_taxis, reverse=True)\n",
    "fhv_taxis = sorted(fhv_taxis, reverse=True)\n",
    "fhvhv_taxis = sorted(fhvhv_taxis, reverse=True)\n",
    "     "
   ]
  },
  {
   "cell_type": "code",
   "execution_count": 7,
   "metadata": {},
   "outputs": [],
   "source": [
    "def download_parquet_links(links_list, taxi_color):\n",
    "    # Create a variable to store the links\n",
    "    parquet_links = links_list\n",
    "\n",
    "    # Print a message confirming download\n",
    "    print(f'Se descargaron los enlaces de parquet para {taxi_color}')\n",
    "\n",
    "    return parquet_links\n"
   ]
  },
  {
   "cell_type": "code",
   "execution_count": 8,
   "metadata": {},
   "outputs": [
    {
     "name": "stdout",
     "output_type": "stream",
     "text": [
      "Se descargaron los enlaces de parquet para yellow\n",
      "Se descargaron los enlaces de parquet para green\n"
     ]
    }
   ],
   "source": [
    "# Define variables to store the links\n",
    "yellow_links = download_parquet_links(yellow_taxis, 'yellow')\n",
    "green_links = download_parquet_links(green_taxis, 'green')\n",
    "\n",
    "# Read the parquet files\n",
    "taxi1 = pd.read_parquet(yellow_links[-1])\n",
    "taxi1['Color'] = 'yellow'\n",
    "\n",
    "taxi2 = pd.read_parquet(green_links[-1])\n",
    "taxi2['Color'] = 'green'\n"
   ]
  },
  {
   "cell_type": "code",
   "execution_count": 9,
   "metadata": {},
   "outputs": [
    {
     "name": "stdout",
     "output_type": "stream",
     "text": [
      "<class 'pandas.core.frame.DataFrame'>\n",
      "RangeIndex: 1369769 entries, 0 to 1369768\n",
      "Data columns (total 20 columns):\n",
      " #   Column                 Non-Null Count    Dtype         \n",
      "---  ------                 --------------    -----         \n",
      " 0   VendorID               1369769 non-null  int64         \n",
      " 1   tpep_pickup_datetime   1369769 non-null  datetime64[us]\n",
      " 2   tpep_dropoff_datetime  1369769 non-null  datetime64[us]\n",
      " 3   passenger_count        1271417 non-null  float64       \n",
      " 4   trip_distance          1369769 non-null  float64       \n",
      " 5   RatecodeID             1271417 non-null  float64       \n",
      " 6   store_and_fwd_flag     1271417 non-null  object        \n",
      " 7   PULocationID           1369769 non-null  int64         \n",
      " 8   DOLocationID           1369769 non-null  int64         \n",
      " 9   payment_type           1369769 non-null  int64         \n",
      " 10  fare_amount            1369769 non-null  float64       \n",
      " 11  extra                  1369769 non-null  float64       \n",
      " 12  mta_tax                1369769 non-null  float64       \n",
      " 13  tip_amount             1369769 non-null  float64       \n",
      " 14  tolls_amount           1369769 non-null  float64       \n",
      " 15  improvement_surcharge  1369769 non-null  float64       \n",
      " 16  total_amount           1369769 non-null  float64       \n",
      " 17  congestion_surcharge   1271417 non-null  float64       \n",
      " 18  airport_fee            5 non-null        float64       \n",
      " 19  Color                  1369769 non-null  object        \n",
      "dtypes: datetime64[us](2), float64(12), int64(4), object(2)\n",
      "memory usage: 209.0+ MB\n"
     ]
    }
   ],
   "source": [
    "taxi1.info()"
   ]
  },
  {
   "cell_type": "code",
   "execution_count": 12,
   "metadata": {},
   "outputs": [
    {
     "data": {
      "text/html": [
       "<div>\n",
       "<style scoped>\n",
       "    .dataframe tbody tr th:only-of-type {\n",
       "        vertical-align: middle;\n",
       "    }\n",
       "\n",
       "    .dataframe tbody tr th {\n",
       "        vertical-align: top;\n",
       "    }\n",
       "\n",
       "    .dataframe thead th {\n",
       "        text-align: right;\n",
       "    }\n",
       "</style>\n",
       "<table border=\"1\" class=\"dataframe\">\n",
       "  <thead>\n",
       "    <tr style=\"text-align: right;\">\n",
       "      <th></th>\n",
       "      <th>VendorID</th>\n",
       "      <th>lpep_pickup_datetime</th>\n",
       "      <th>lpep_dropoff_datetime</th>\n",
       "      <th>store_and_fwd_flag</th>\n",
       "      <th>RatecodeID</th>\n",
       "      <th>PULocationID</th>\n",
       "      <th>DOLocationID</th>\n",
       "      <th>passenger_count</th>\n",
       "      <th>trip_distance</th>\n",
       "      <th>fare_amount</th>\n",
       "      <th>...</th>\n",
       "      <th>mta_tax</th>\n",
       "      <th>tip_amount</th>\n",
       "      <th>tolls_amount</th>\n",
       "      <th>ehail_fee</th>\n",
       "      <th>improvement_surcharge</th>\n",
       "      <th>total_amount</th>\n",
       "      <th>payment_type</th>\n",
       "      <th>trip_type</th>\n",
       "      <th>congestion_surcharge</th>\n",
       "      <th>Color</th>\n",
       "    </tr>\n",
       "  </thead>\n",
       "  <tbody>\n",
       "    <tr>\n",
       "      <th>0</th>\n",
       "      <td>2</td>\n",
       "      <td>2021-01-01 00:15:56</td>\n",
       "      <td>2021-01-01 00:19:52</td>\n",
       "      <td>N</td>\n",
       "      <td>1.0</td>\n",
       "      <td>43</td>\n",
       "      <td>151</td>\n",
       "      <td>1.0</td>\n",
       "      <td>1.01</td>\n",
       "      <td>5.5</td>\n",
       "      <td>...</td>\n",
       "      <td>0.5</td>\n",
       "      <td>0.00</td>\n",
       "      <td>0.0</td>\n",
       "      <td>None</td>\n",
       "      <td>0.3</td>\n",
       "      <td>6.80</td>\n",
       "      <td>2.0</td>\n",
       "      <td>1.0</td>\n",
       "      <td>0.00</td>\n",
       "      <td>green</td>\n",
       "    </tr>\n",
       "    <tr>\n",
       "      <th>1</th>\n",
       "      <td>2</td>\n",
       "      <td>2021-01-01 00:25:59</td>\n",
       "      <td>2021-01-01 00:34:44</td>\n",
       "      <td>N</td>\n",
       "      <td>1.0</td>\n",
       "      <td>166</td>\n",
       "      <td>239</td>\n",
       "      <td>1.0</td>\n",
       "      <td>2.53</td>\n",
       "      <td>10.0</td>\n",
       "      <td>...</td>\n",
       "      <td>0.5</td>\n",
       "      <td>2.81</td>\n",
       "      <td>0.0</td>\n",
       "      <td>None</td>\n",
       "      <td>0.3</td>\n",
       "      <td>16.86</td>\n",
       "      <td>1.0</td>\n",
       "      <td>1.0</td>\n",
       "      <td>2.75</td>\n",
       "      <td>green</td>\n",
       "    </tr>\n",
       "    <tr>\n",
       "      <th>2</th>\n",
       "      <td>2</td>\n",
       "      <td>2021-01-01 00:45:57</td>\n",
       "      <td>2021-01-01 00:51:55</td>\n",
       "      <td>N</td>\n",
       "      <td>1.0</td>\n",
       "      <td>41</td>\n",
       "      <td>42</td>\n",
       "      <td>1.0</td>\n",
       "      <td>1.12</td>\n",
       "      <td>6.0</td>\n",
       "      <td>...</td>\n",
       "      <td>0.5</td>\n",
       "      <td>1.00</td>\n",
       "      <td>0.0</td>\n",
       "      <td>None</td>\n",
       "      <td>0.3</td>\n",
       "      <td>8.30</td>\n",
       "      <td>1.0</td>\n",
       "      <td>1.0</td>\n",
       "      <td>0.00</td>\n",
       "      <td>green</td>\n",
       "    </tr>\n",
       "    <tr>\n",
       "      <th>3</th>\n",
       "      <td>2</td>\n",
       "      <td>2020-12-31 23:57:51</td>\n",
       "      <td>2021-01-01 00:04:56</td>\n",
       "      <td>N</td>\n",
       "      <td>1.0</td>\n",
       "      <td>168</td>\n",
       "      <td>75</td>\n",
       "      <td>1.0</td>\n",
       "      <td>1.99</td>\n",
       "      <td>8.0</td>\n",
       "      <td>...</td>\n",
       "      <td>0.5</td>\n",
       "      <td>0.00</td>\n",
       "      <td>0.0</td>\n",
       "      <td>None</td>\n",
       "      <td>0.3</td>\n",
       "      <td>9.30</td>\n",
       "      <td>2.0</td>\n",
       "      <td>1.0</td>\n",
       "      <td>0.00</td>\n",
       "      <td>green</td>\n",
       "    </tr>\n",
       "    <tr>\n",
       "      <th>4</th>\n",
       "      <td>2</td>\n",
       "      <td>2021-01-01 00:16:36</td>\n",
       "      <td>2021-01-01 00:16:40</td>\n",
       "      <td>N</td>\n",
       "      <td>2.0</td>\n",
       "      <td>265</td>\n",
       "      <td>265</td>\n",
       "      <td>3.0</td>\n",
       "      <td>0.00</td>\n",
       "      <td>-52.0</td>\n",
       "      <td>...</td>\n",
       "      <td>-0.5</td>\n",
       "      <td>0.00</td>\n",
       "      <td>0.0</td>\n",
       "      <td>None</td>\n",
       "      <td>-0.3</td>\n",
       "      <td>-52.80</td>\n",
       "      <td>3.0</td>\n",
       "      <td>1.0</td>\n",
       "      <td>0.00</td>\n",
       "      <td>green</td>\n",
       "    </tr>\n",
       "  </tbody>\n",
       "</table>\n",
       "<p>5 rows × 21 columns</p>\n",
       "</div>"
      ],
      "text/plain": [
       "   VendorID lpep_pickup_datetime lpep_dropoff_datetime store_and_fwd_flag  \\\n",
       "0         2  2021-01-01 00:15:56   2021-01-01 00:19:52                  N   \n",
       "1         2  2021-01-01 00:25:59   2021-01-01 00:34:44                  N   \n",
       "2         2  2021-01-01 00:45:57   2021-01-01 00:51:55                  N   \n",
       "3         2  2020-12-31 23:57:51   2021-01-01 00:04:56                  N   \n",
       "4         2  2021-01-01 00:16:36   2021-01-01 00:16:40                  N   \n",
       "\n",
       "   RatecodeID  PULocationID  DOLocationID  passenger_count  trip_distance  \\\n",
       "0         1.0            43           151              1.0           1.01   \n",
       "1         1.0           166           239              1.0           2.53   \n",
       "2         1.0            41            42              1.0           1.12   \n",
       "3         1.0           168            75              1.0           1.99   \n",
       "4         2.0           265           265              3.0           0.00   \n",
       "\n",
       "   fare_amount  ...  mta_tax  tip_amount  tolls_amount  ehail_fee  \\\n",
       "0          5.5  ...      0.5        0.00           0.0       None   \n",
       "1         10.0  ...      0.5        2.81           0.0       None   \n",
       "2          6.0  ...      0.5        1.00           0.0       None   \n",
       "3          8.0  ...      0.5        0.00           0.0       None   \n",
       "4        -52.0  ...     -0.5        0.00           0.0       None   \n",
       "\n",
       "  improvement_surcharge  total_amount  payment_type  trip_type  \\\n",
       "0                   0.3          6.80           2.0        1.0   \n",
       "1                   0.3         16.86           1.0        1.0   \n",
       "2                   0.3          8.30           1.0        1.0   \n",
       "3                   0.3          9.30           2.0        1.0   \n",
       "4                  -0.3        -52.80           3.0        1.0   \n",
       "\n",
       "   congestion_surcharge  Color  \n",
       "0                  0.00  green  \n",
       "1                  2.75  green  \n",
       "2                  0.00  green  \n",
       "3                  0.00  green  \n",
       "4                  0.00  green  \n",
       "\n",
       "[5 rows x 21 columns]"
      ]
     },
     "execution_count": 12,
     "metadata": {},
     "output_type": "execute_result"
    }
   ],
   "source": [
    "taxi2.head()"
   ]
  },
  {
   "cell_type": "code",
   "execution_count": 6,
   "metadata": {},
   "outputs": [],
   "source": [
    "def download_parquet_links(links_list, taxi_color):\n",
    "  with open(f'{taxi_color}.json', 'w') as json_file:\n",
    "    json.dump(links_list, json_file)\n",
    "  print(f'Se descargo un archivo llamado \"{taxi_color}_parquet_links.json\"')"
   ]
  },
  {
   "cell_type": "code",
   "execution_count": 7,
   "metadata": {},
   "outputs": [
    {
     "name": "stdout",
     "output_type": "stream",
     "text": [
      "Se descargo un archivo llamado \"yellow_parquet_links.json\"\n",
      "Se descargo un archivo llamado \"green_parquet_links.json\"\n",
      "Se descargo un archivo llamado \"fhv_parquet_links.json\"\n",
      "Se descargo un archivo llamado \"fhvhv_parquet_links.json\"\n"
     ]
    }
   ],
   "source": [
    "download_parquet_links(yellow_taxis, 'yellow')\n",
    "download_parquet_links(green_taxis, 'green')\n",
    "download_parquet_links(fhv_taxis, 'fhv')\n",
    "download_parquet_links(fhvhv_taxis, 'fhvhv')"
   ]
  },
  {
   "cell_type": "code",
   "execution_count": 8,
   "metadata": {},
   "outputs": [],
   "source": [
    "taxi1=pd.read_parquet(yellow_taxis[-1])\n",
    "taxi1['Color'] = 'yellow'"
   ]
  },
  {
   "cell_type": "code",
   "execution_count": 9,
   "metadata": {},
   "outputs": [],
   "source": [
    "taxi2=pd.read_parquet(green_taxis[-1])\n",
    "taxi1['Color'] = 'Green'"
   ]
  },
  {
   "cell_type": "code",
   "execution_count": 10,
   "metadata": {},
   "outputs": [],
   "source": [
    "taxi3=pd.read_parquet(fhv_taxis[-1])\n",
    "taxi1['Color'] = 'fhv'"
   ]
  },
  {
   "cell_type": "code",
   "execution_count": 11,
   "metadata": {},
   "outputs": [],
   "source": [
    "taxi4=pd.read_parquet(fhvhv_taxis[-1])\n",
    "taxi1['Color'] = 'fhvhv'"
   ]
  },
  {
   "cell_type": "code",
   "execution_count": 12,
   "metadata": {},
   "outputs": [],
   "source": [
    "dftaxis= pd.concat([taxi1, taxi2, taxi3, taxi4], ignore_index=True)"
   ]
  },
  {
   "cell_type": "code",
   "execution_count": 13,
   "metadata": {},
   "outputs": [
    {
     "name": "stdout",
     "output_type": "stream",
     "text": [
      "<class 'pandas.core.frame.DataFrame'>\n",
      "RangeIndex: 14508867 entries, 0 to 14508866\n",
      "Data columns (total 49 columns):\n",
      " #   Column                  Dtype         \n",
      "---  ------                  -----         \n",
      " 0   VendorID                float64       \n",
      " 1   tpep_pickup_datetime    datetime64[us]\n",
      " 2   tpep_dropoff_datetime   datetime64[us]\n",
      " 3   passenger_count         float64       \n",
      " 4   trip_distance           float64       \n",
      " 5   RatecodeID              float64       \n",
      " 6   store_and_fwd_flag      object        \n",
      " 7   PULocationID            float64       \n",
      " 8   DOLocationID            float64       \n",
      " 9   payment_type            float64       \n",
      " 10  fare_amount             float64       \n",
      " 11  extra                   float64       \n",
      " 12  mta_tax                 float64       \n",
      " 13  tip_amount              float64       \n",
      " 14  tolls_amount            float64       \n",
      " 15  improvement_surcharge   float64       \n",
      " 16  total_amount            float64       \n",
      " 17  congestion_surcharge    float64       \n",
      " 18  airport_fee             float64       \n",
      " 19  Color                   object        \n",
      " 20  lpep_pickup_datetime    datetime64[us]\n",
      " 21  lpep_dropoff_datetime   datetime64[us]\n",
      " 22  ehail_fee               object        \n",
      " 23  trip_type               float64       \n",
      " 24  dispatching_base_num    object        \n",
      " 25  pickup_datetime         datetime64[us]\n",
      " 26  dropOff_datetime        datetime64[us]\n",
      " 27  PUlocationID            float64       \n",
      " 28  DOlocationID            float64       \n",
      " 29  SR_Flag                 object        \n",
      " 30  Affiliated_base_number  object        \n",
      " 31  hvfhs_license_num       object        \n",
      " 32  originating_base_num    object        \n",
      " 33  request_datetime        datetime64[us]\n",
      " 34  on_scene_datetime       datetime64[us]\n",
      " 35  dropoff_datetime        datetime64[us]\n",
      " 36  trip_miles              float64       \n",
      " 37  trip_time               float64       \n",
      " 38  base_passenger_fare     float64       \n",
      " 39  tolls                   float64       \n",
      " 40  bcf                     float64       \n",
      " 41  sales_tax               float64       \n",
      " 42  tips                    float64       \n",
      " 43  driver_pay              float64       \n",
      " 44  shared_request_flag     object        \n",
      " 45  shared_match_flag       object        \n",
      " 46  access_a_ride_flag      object        \n",
      " 47  wav_request_flag        object        \n",
      " 48  wav_match_flag          object        \n",
      "dtypes: datetime64[us](9), float64(27), object(13)\n",
      "memory usage: 5.3+ GB\n"
     ]
    }
   ],
   "source": [
    "dftaxis.info()"
   ]
  }
 ],
 "metadata": {
  "kernelspec": {
   "display_name": "Python 3",
   "language": "python",
   "name": "python3"
  },
  "language_info": {
   "codemirror_mode": {
    "name": "ipython",
    "version": 3
   },
   "file_extension": ".py",
   "mimetype": "text/x-python",
   "name": "python",
   "nbconvert_exporter": "python",
   "pygments_lexer": "ipython3",
   "version": "3.11.7"
  }
 },
 "nbformat": 4,
 "nbformat_minor": 2
}
