{
 "cells": [
  {
   "cell_type": "code",
   "execution_count": 2,
   "metadata": {},
   "outputs": [],
   "source": [
    "import pandas as pd"
   ]
  },
  {
   "cell_type": "code",
   "execution_count": 3,
   "metadata": {},
   "outputs": [
    {
     "name": "stderr",
     "output_type": "stream",
     "text": [
      "C:\\Users\\Eduardo\\AppData\\Local\\Temp\\ipykernel_22476\\3130114909.py:1: DtypeWarning: Columns (73,75) have mixed types. Specify dtype option on import or set low_memory=False.\n",
      "  data=pd.read_csv(\"Vehicle Fuel Economy Data.csv\")\n"
     ]
    }
   ],
   "source": [
    "data=pd.read_csv(\"Vehicle Fuel Economy Data.csv\")"
   ]
  },
  {
   "cell_type": "code",
   "execution_count": 4,
   "metadata": {},
   "outputs": [
    {
     "data": {
      "text/plain": [
       "(              Year   cylinders       displ   fuelCost08  fuelCostA08  \\\n",
       " count   799.000000  296.000000  297.000000   799.000000   799.000000   \n",
       " mean   2019.052566    4.658784    2.266330  1338.235294    79.224030   \n",
       " std       4.400358    1.455017    0.827246   891.542981   296.068895   \n",
       " min    1998.000000    2.000000    0.000000   500.000000     0.000000   \n",
       " 25%    2017.000000    4.000000    1.800000   650.000000     0.000000   \n",
       " 50%    2020.000000    4.000000    2.000000   900.000000     0.000000   \n",
       " 75%    2022.000000    6.000000    2.900000  2100.000000     0.000000   \n",
       " max    2023.000000    8.000000    4.600000  3850.000000  1600.000000   \n",
       " \n",
       "               co2    ghgScore  ghgScoreA      comb08       UCity      UCityA  \\\n",
       " count  799.000000  799.000000      799.0  799.000000  799.000000  799.000000   \n",
       " mean    65.464330    9.071339       -1.0   72.329161  104.459876   37.886108   \n",
       " std     99.353718    2.505866        0.0   36.988660   58.016201   54.831876   \n",
       " min      0.000000   -1.000000       -1.0   17.000000   19.200000    0.000000   \n",
       " 25%      0.000000   10.000000       -1.0   31.000000   42.742900    0.000000   \n",
       " 50%      0.000000   10.000000       -1.0   79.000000  112.040400    0.000000   \n",
       " 75%    129.000000   10.000000       -1.0  105.000000  156.900000   76.500000   \n",
       " max    463.000000   10.000000       -1.0  142.000000  224.800000  207.000000   \n",
       " \n",
       "         rangeCity  rangeCityA    rangeHwy  \n",
       " count  799.000000  799.000000  799.000000  \n",
       " mean    95.549437    9.730914   88.871089  \n",
       " std    129.703623   18.082557  122.680146  \n",
       " min      0.000000    0.000000    0.000000  \n",
       " 25%      0.000000    0.000000    0.000000  \n",
       " 50%      0.000000    0.000000    0.000000  \n",
       " 75%    231.000000   16.500000  210.000000  \n",
       " max    520.000000  135.000000  520.000000  ,\n",
       "               Year  cylinders      displ   fuelCost08  fuelCostA08  \\\n",
       " count    60.000000  60.000000  60.000000    60.000000         60.0   \n",
       " mean   2003.200000   6.500000   3.963333  3135.833333          0.0   \n",
       " std       5.041523   1.900045   1.707210  1166.811230          0.0   \n",
       " min    1993.000000   4.000000   1.600000  1550.000000          0.0   \n",
       " 25%    2000.000000   4.000000   1.800000  1787.500000          0.0   \n",
       " 50%    2002.500000   8.000000   4.600000  3375.000000          0.0   \n",
       " 75%    2005.000000   8.000000   5.400000  4050.000000          0.0   \n",
       " max    2015.000000   8.000000   6.000000  5400.000000          0.0   \n",
       " \n",
       "               co2   ghgScore  ghgScoreA     comb08      UCity  UCityA  \\\n",
       " count   60.000000  60.000000       60.0  60.000000  47.000000    47.0   \n",
       " mean    17.983333  -0.400000       -1.0  18.133333  21.972026     0.0   \n",
       " std     77.523641   2.344846        0.0   7.436663   9.001477     0.0   \n",
       " min     -1.000000  -1.000000       -1.0   9.000000  10.100000     0.0   \n",
       " 25%     -1.000000  -1.000000       -1.0  12.000000  13.750000     0.0   \n",
       " 50%     -1.000000  -1.000000       -1.0  14.500000  18.900000     0.0   \n",
       " 75%     -1.000000  -1.000000       -1.0  27.250000  31.000000     0.0   \n",
       " max    481.000000  10.000000       -1.0  31.000000  34.800000     0.0   \n",
       " \n",
       "        rangeCity  rangeCityA  rangeHwy  \n",
       " count       47.0        47.0      47.0  \n",
       " mean         0.0         0.0       0.0  \n",
       " std          0.0         0.0       0.0  \n",
       " min          0.0         0.0       0.0  \n",
       " 25%          0.0         0.0       0.0  \n",
       " 50%          0.0         0.0       0.0  \n",
       " 75%          0.0         0.0       0.0  \n",
       " max          0.0         0.0       0.0  ,\n",
       "                Year     cylinders         displ    fuelCost08   fuelCostA08  \\\n",
       " count  44094.000000  44091.000000  44092.000000  44094.000000  44094.000000   \n",
       " mean    2003.862544      5.747318      3.307713   2965.978364    114.856897   \n",
       " std       12.083808      1.774264      1.356610    820.467998    615.361792   \n",
       " min     1984.000000      2.000000      0.900000    900.000000      0.000000   \n",
       " 25%     1993.000000      4.000000      2.200000   2400.000000      0.000000   \n",
       " 50%     2005.000000      6.000000      3.000000   2950.000000      0.000000   \n",
       " 75%     2015.000000      6.000000      4.300000   3450.000000      0.000000   \n",
       " max     2024.000000     16.000000      8.400000   9350.000000   5000.000000   \n",
       " \n",
       "                 co2      ghgScore     ghgScoreA        comb08         UCity  \\\n",
       " count  44094.000000  44094.000000  44094.000000  44094.000000  43346.000000   \n",
       " mean     124.573638      0.763505     -0.918742     20.495033     23.084456   \n",
       " std      197.425704      2.824302      0.663580      5.423574      7.198067   \n",
       " min       -1.000000     -1.000000     -1.000000      7.000000      0.000000   \n",
       " 25%       -1.000000     -1.000000     -1.000000     17.000000     18.699625   \n",
       " 50%       -1.000000     -1.000000     -1.000000     20.000000     21.940900   \n",
       " 75%      321.000000      3.000000     -1.000000     23.000000     26.300000   \n",
       " max      979.000000     10.000000      8.000000     59.000000     83.559800   \n",
       " \n",
       "              UCityA  rangeCity  rangeCityA  rangeHwy  \n",
       " count  43346.000000    43346.0     43346.0   43346.0  \n",
       " mean       0.430628        0.0         0.0       0.0  \n",
       " std        2.498143        0.0         0.0       0.0  \n",
       " min        0.000000        0.0         0.0       0.0  \n",
       " 25%        0.000000        0.0         0.0       0.0  \n",
       " 50%        0.000000        0.0         0.0       0.0  \n",
       " 75%        0.000000        0.0         0.0       0.0  \n",
       " max       25.000000        0.0         0.0       0.0  )"
      ]
     },
     "execution_count": 4,
     "metadata": {},
     "output_type": "execute_result"
    }
   ],
   "source": [
    "# Actualizar la lista de variables relevantes para incluir las adicionales\n",
    "relevant_columns = [\n",
    "    'Year', 'Manufacturer', 'Model', 'fuelType', 'cylinders', 'displ', 'VClass',\n",
    "    'fuelCost08', 'fuelCostA08', 'co2', 'ghgScore', 'ghgScoreA',\n",
    "    'comb08', 'UCity', 'UCityA', 'rangeCity', 'rangeCityA', 'rangeHwy'\n",
    "]\n",
    "\n",
    "# Filtrar los datos con las variables relevantes\n",
    "filtered_data = data[relevant_columns]\n",
    "\n",
    "# Limpiar valores nulos en columnas críticas\n",
    "filtered_data_clean = filtered_data.dropna(subset=['fuelType'])\n",
    "\n",
    "# Separar los datos en vehículos eléctricos, alternativos y convencionales\n",
    "electric_vehicles = filtered_data_clean[filtered_data_clean['fuelType'].str.contains('Electric')]\n",
    "alternative_vehicles = filtered_data_clean[filtered_data_clean['fuelType'].str.contains('Hybrid|Ethanol|CNG|LPG')]\n",
    "conventional_vehicles = filtered_data_clean[~filtered_data_clean['fuelType'].str.contains('Electric|Hybrid|Ethanol|CNG|LPG')]\n",
    "\n",
    "# Resumen de los datos para cada tipo de vehículo\n",
    "summary_electric = electric_vehicles.describe()\n",
    "summary_alternative = alternative_vehicles.describe()\n",
    "summary_conventional = conventional_vehicles.describe()\n",
    "\n",
    "summary_electric, summary_alternative, summary_conventional\n",
    "\n"
   ]
  }
 ],
 "metadata": {
  "kernelspec": {
   "display_name": "henry",
   "language": "python",
   "name": "python3"
  },
  "language_info": {
   "codemirror_mode": {
    "name": "ipython",
    "version": 3
   },
   "file_extension": ".py",
   "mimetype": "text/x-python",
   "name": "python",
   "nbconvert_exporter": "python",
   "pygments_lexer": "ipython3",
   "version": "3.9.18"
  }
 },
 "nbformat": 4,
 "nbformat_minor": 2
}
